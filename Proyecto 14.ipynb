{
 "cells": [
  {
   "cell_type": "markdown",
   "id": "cc87df50-d407-44a9-837e-44fc214cc985",
   "metadata": {},
   "source": [
    "# Introducción \n",
    "\n",
    "Rusty Bargain, un servicio dedicado a la venta de coches de segunda mano, está desarrollando una aplicación innovadora que permitirá a los usuarios conocer de manera rápida y precisa el valor de mercado de sus vehículos. Para ello, se cuenta con un conjunto de datos que incluye el historial del coche, especificaciones técnicas, versiones de equipamiento y precios. **El objetivo principal de este proyecto es diseñar un modelo de machine learning que prediga el valor de mercado con alta calidad, optimizando además la velocidad de la predicción y el tiempo requerido para el entrenamiento**. Este enfoque permitirá a Rusty Bargain ofrecer una herramienta eficiente y confiable que mejore la experiencia del usuario y facilite la toma de decisiones tanto para compradores como para vendedores."
   ]
  },
  {
   "cell_type": "markdown",
   "id": "f07877cf-3ade-44a9-bdfe-94022d798ff8",
   "metadata": {},
   "source": [
    "# Inicialización"
   ]
  },
  {
   "cell_type": "markdown",
   "id": "b8a7b237-f5f8-4aa9-8265-3f23f3d0edec",
   "metadata": {},
   "source": [
    "## Importación de librerías\n",
    "\n",
    "En esta sección se realiza la inicialización e importación de las librerías necesarias para el proyecto. Se incluyen paquetes para el manejo y análisis de datos, así como funciones estadísticas específicas, modelos clásicos de machine learning y métricas de evaluación. Además, se preparan importaciones para modelos avanzados de boosting. Esta organización modular permite tener disponibles las funcionalidades requeridas para cada etapa del análisis y modelado de datos."
   ]
  },
  {
   "cell_type": "code",
   "execution_count": 1,
   "id": "34756007-3bef-4c30-95b8-f6a36556af79",
   "metadata": {},
   "outputs": [],
   "source": [
    "# Instalación de librerías XGBoost, CatBoost y LightGBM\n",
    "\n",
    "#!pip install xgboost\n",
    "#!pip install catboost\n",
    "#!pip install lightgbm"
   ]
  },
  {
   "cell_type": "code",
   "execution_count": 2,
   "id": "6378fca5-b248-4bbf-aec4-5294cbc4ac0a",
   "metadata": {
    "scrolled": true
   },
   "outputs": [
    {
     "name": "stderr",
     "output_type": "stream",
     "text": [
      "/home/alexkhype/jupyter/lib/python3.8/site-packages/xgboost/core.py:265: FutureWarning: Your system has an old version of glibc (< 2.28). We will stop supporting Linux distros with glibc older than 2.28 after **May 31, 2025**. Please upgrade to a recent Linux distro (with glibc 2.28+) to use future versions of XGBoost.\n",
      "Note: You have installed the 'manylinux2014' variant of XGBoost. Certain features such as GPU algorithms or federated learning are not available. To use these features, please upgrade to a recent Linux distro with glibc 2.28+, and install the 'manylinux_2_28' variant.\n",
      "  warnings.warn(\n"
     ]
    }
   ],
   "source": [
    "# Importaciones para manejo y análisis de datos\n",
    "import numpy as np\n",
    "import pandas as pd\n",
    "from statistics import mode\n",
    "\n",
    "# Importaciones para visualización\n",
    "import matplotlib.pyplot as plt\n",
    "import seaborn as sns\n",
    "\n",
    "# Importaciones para manipulación de tiempo y matemáticas básicas\n",
    "import time\n",
    "\n",
    "# Importaciones para preprocesamiento de datos\n",
    "from sklearn.preprocessing import (StandardScaler, MaxAbsScaler, LabelEncoder)\n",
    "\n",
    "# Importaciones para partición de datos y validación cruzada\n",
    "from sklearn.model_selection import (train_test_split, GridSearchCV)\n",
    "\n",
    "# Importaciones para modelos de Machine Learning clásicos\n",
    "from sklearn.linear_model import (LogisticRegression, LinearRegression)\n",
    "from sklearn.tree import DecisionTreeRegressor\n",
    "from sklearn.ensemble import RandomForestRegressor\n",
    "\n",
    "# Importaciones para métricas de evaluación\n",
    "from sklearn.metrics import mean_squared_error\n",
    "\n",
    "# Importaciones para modelos de boosting avanzados\n",
    "#import lightgbm as lgb\n",
    "from lightgbm import LGBMRegressor\n",
    "from xgboost import XGBRegressor\n",
    "from catboost import CatBoostRegressor"
   ]
  },
  {
   "cell_type": "markdown",
   "id": "362a9c0a-917e-4705-adb0-7eee9ea255d5",
   "metadata": {},
   "source": [
    "## Carga de datos\n",
    "\n",
    "Se carga el conjunto de datos que contiene el historial, especificaciones técnicas, versiones de equipamiento y precios de los productos. Este DataFrame servirá como base para el desarrollo del modelo predictivo de valor de mercado."
   ]
  },
  {
   "cell_type": "code",
   "execution_count": 3,
   "id": "52f12a0f-5805-4df2-b48c-539d167c2bc6",
   "metadata": {},
   "outputs": [],
   "source": [
    "# Carga de datos\n",
    "\n",
    "try:\n",
    "    df = pd.read_csv('https://practicum-content.s3.us-west-1.amazonaws.com/datasets/car_data.csv')\n",
    "except:\n",
    "    df = pd.read_csv('/datasets/car_data.csv')"
   ]
  },
  {
   "cell_type": "code",
   "execution_count": 4,
   "id": "65ec56ad-6432-460c-a7e4-fecc8cd71416",
   "metadata": {},
   "outputs": [
    {
     "name": "stdout",
     "output_type": "stream",
     "text": [
      "<class 'pandas.core.frame.DataFrame'>\n",
      "RangeIndex: 354369 entries, 0 to 354368\n",
      "Data columns (total 16 columns):\n",
      " #   Column             Non-Null Count   Dtype \n",
      "---  ------             --------------   ----- \n",
      " 0   DateCrawled        354369 non-null  object\n",
      " 1   Price              354369 non-null  int64 \n",
      " 2   VehicleType        316879 non-null  object\n",
      " 3   RegistrationYear   354369 non-null  int64 \n",
      " 4   Gearbox            334536 non-null  object\n",
      " 5   Power              354369 non-null  int64 \n",
      " 6   Model              334664 non-null  object\n",
      " 7   Mileage            354369 non-null  int64 \n",
      " 8   RegistrationMonth  354369 non-null  int64 \n",
      " 9   FuelType           321474 non-null  object\n",
      " 10  Brand              354369 non-null  object\n",
      " 11  NotRepaired        283215 non-null  object\n",
      " 12  DateCreated        354369 non-null  object\n",
      " 13  NumberOfPictures   354369 non-null  int64 \n",
      " 14  PostalCode         354369 non-null  int64 \n",
      " 15  LastSeen           354369 non-null  object\n",
      "dtypes: int64(7), object(9)\n",
      "memory usage: 43.3+ MB\n"
     ]
    }
   ],
   "source": [
    "# Información general del DataFrame\n",
    "df.info()"
   ]
  },
  {
   "cell_type": "markdown",
   "id": "226c37b4-6850-43bf-a935-2defe477542b",
   "metadata": {},
   "source": [
    "## Exploración inicial de datos\n",
    "\n",
    "En el conjunto de datos se encuentra la siguiente información:\n",
    "\n",
    "**Características**\n",
    "\n",
    "- `DateCrawled` — fecha en la que se descargó el perfil de la base de datos\n",
    "- `VehicleType` — tipo de carrocería del vehículo\n",
    "- `RegistrationYear` — año de matriculación del vehículo\n",
    "- `Gearbox` — tipo de caja de cambios\n",
    "- `Power` — potencia (HP)\n",
    "- `Model` — modelo del vehículo\n",
    "- `Mileage` — kilometraje (medido en km de acuerdo con las especificidades regionales del conjunto de datos)\n",
    "- `RegistrationMonth` — mes de matriculación del vehículo\n",
    "- `FuelType` — tipo de combustible\n",
    "- `Brand` — marca del vehículo\n",
    "- `NotRepaired` — indica si el vehículo ha sufrido reparaciones\n",
    "- `DateCreated` — fecha de creación del perfil\n",
    "- `NumberOfPictures` — número de fotos del vehículo\n",
    "- `PostalCode` — código postal del propietario del perfil (usuario)\n",
    "- `LastSeen` — fecha de la última vez que el usuario estuvo activo\n",
    "\n",
    "**Objetivo**\n",
    "- `Price` — precio (en dólares)\n",
    "\n",
    "El conjunto de datos contiene dos tipos de información: datos relacionados con el vehículo y datos relacionados con el usuario. Los datos asociados al usuario (`DateCrawled`, `DateCreated`, `NumberOfPictures`, `PostalCode`, `LastSeen`) no están directamente vinculados con las características del coche ni influyen en su valoración, por lo que se excluirán del análisis. Además, aunque el mes de matriculación (`RegistrationMonth`) está relacionado con el vehículo, se optará por no incluirlo, ya que el año de matriculación proporciona suficiente información temporal para el estudio. De esta manera, el análisis se centrará únicamente en las variables que impactan directamente en la valuación del vehículo.\n",
    "\n",
    "Asimismo, los nombres de la columnas utilizan mayúsculas. Esto dificulta la legibilidad y el mantenimiento del código, además de no seguir las convenciones comunes de nomenclatura en programación. Por ese motivo, se procederá en una etapa posterior a convertirlos a estilo `snake_case` para mejorar la claridad y consistencia. "
   ]
  },
  {
   "cell_type": "markdown",
   "id": "9a157b82-e49c-46c4-aab1-1dacd490b45a",
   "metadata": {},
   "source": [
    "De esta manera, el conjunto de datos que se utilizará para el estudio queda ahora sólo con las características relevantes para la valuación del coche. Como se puede observar en la información general del conjunto, existen valores ausentes."
   ]
  },
  {
   "cell_type": "code",
   "execution_count": 5,
   "id": "03006c09-edc9-43c3-8bb4-dee603f97150",
   "metadata": {},
   "outputs": [
    {
     "data": {
      "text/html": [
       "<style type=\"text/css\">\n",
       "#T_a33da_row0_col0, #T_a33da_row0_col1, #T_a33da_row0_col3, #T_a33da_row0_col4, #T_a33da_row0_col5, #T_a33da_row0_col6, #T_a33da_row0_col7, #T_a33da_row0_col8, #T_a33da_row0_col9, #T_a33da_row0_col10, #T_a33da_row0_col12, #T_a33da_row0_col13, #T_a33da_row0_col14, #T_a33da_row0_col15, #T_a33da_row1_col0, #T_a33da_row1_col1, #T_a33da_row1_col2, #T_a33da_row1_col3, #T_a33da_row1_col4, #T_a33da_row1_col5, #T_a33da_row1_col7, #T_a33da_row1_col8, #T_a33da_row1_col9, #T_a33da_row1_col10, #T_a33da_row1_col11, #T_a33da_row1_col12, #T_a33da_row1_col13, #T_a33da_row1_col14, #T_a33da_row1_col15, #T_a33da_row2_col0, #T_a33da_row2_col1, #T_a33da_row2_col2, #T_a33da_row2_col3, #T_a33da_row2_col4, #T_a33da_row2_col5, #T_a33da_row2_col6, #T_a33da_row2_col7, #T_a33da_row2_col8, #T_a33da_row2_col9, #T_a33da_row2_col10, #T_a33da_row2_col12, #T_a33da_row2_col13, #T_a33da_row2_col14, #T_a33da_row2_col15, #T_a33da_row3_col0, #T_a33da_row3_col1, #T_a33da_row3_col2, #T_a33da_row3_col3, #T_a33da_row3_col4, #T_a33da_row3_col5, #T_a33da_row3_col6, #T_a33da_row3_col7, #T_a33da_row3_col8, #T_a33da_row3_col9, #T_a33da_row3_col10, #T_a33da_row3_col11, #T_a33da_row3_col12, #T_a33da_row3_col13, #T_a33da_row3_col14, #T_a33da_row3_col15, #T_a33da_row4_col0, #T_a33da_row4_col1, #T_a33da_row4_col2, #T_a33da_row4_col3, #T_a33da_row4_col4, #T_a33da_row4_col5, #T_a33da_row4_col6, #T_a33da_row4_col7, #T_a33da_row4_col8, #T_a33da_row4_col9, #T_a33da_row4_col10, #T_a33da_row4_col11, #T_a33da_row4_col12, #T_a33da_row4_col13, #T_a33da_row4_col14, #T_a33da_row4_col15 {\n",
       "  color: ;\n",
       "}\n",
       "#T_a33da_row0_col2, #T_a33da_row0_col11, #T_a33da_row1_col6, #T_a33da_row2_col11 {\n",
       "  color: red;\n",
       "}\n",
       "</style>\n",
       "<table id=\"T_a33da\">\n",
       "  <thead>\n",
       "    <tr>\n",
       "      <th class=\"blank level0\" >&nbsp;</th>\n",
       "      <th id=\"T_a33da_level0_col0\" class=\"col_heading level0 col0\" >DateCrawled</th>\n",
       "      <th id=\"T_a33da_level0_col1\" class=\"col_heading level0 col1\" >Price</th>\n",
       "      <th id=\"T_a33da_level0_col2\" class=\"col_heading level0 col2\" >VehicleType</th>\n",
       "      <th id=\"T_a33da_level0_col3\" class=\"col_heading level0 col3\" >RegistrationYear</th>\n",
       "      <th id=\"T_a33da_level0_col4\" class=\"col_heading level0 col4\" >Gearbox</th>\n",
       "      <th id=\"T_a33da_level0_col5\" class=\"col_heading level0 col5\" >Power</th>\n",
       "      <th id=\"T_a33da_level0_col6\" class=\"col_heading level0 col6\" >Model</th>\n",
       "      <th id=\"T_a33da_level0_col7\" class=\"col_heading level0 col7\" >Mileage</th>\n",
       "      <th id=\"T_a33da_level0_col8\" class=\"col_heading level0 col8\" >RegistrationMonth</th>\n",
       "      <th id=\"T_a33da_level0_col9\" class=\"col_heading level0 col9\" >FuelType</th>\n",
       "      <th id=\"T_a33da_level0_col10\" class=\"col_heading level0 col10\" >Brand</th>\n",
       "      <th id=\"T_a33da_level0_col11\" class=\"col_heading level0 col11\" >NotRepaired</th>\n",
       "      <th id=\"T_a33da_level0_col12\" class=\"col_heading level0 col12\" >DateCreated</th>\n",
       "      <th id=\"T_a33da_level0_col13\" class=\"col_heading level0 col13\" >NumberOfPictures</th>\n",
       "      <th id=\"T_a33da_level0_col14\" class=\"col_heading level0 col14\" >PostalCode</th>\n",
       "      <th id=\"T_a33da_level0_col15\" class=\"col_heading level0 col15\" >LastSeen</th>\n",
       "    </tr>\n",
       "  </thead>\n",
       "  <tbody>\n",
       "    <tr>\n",
       "      <th id=\"T_a33da_level0_row0\" class=\"row_heading level0 row0\" >0</th>\n",
       "      <td id=\"T_a33da_row0_col0\" class=\"data row0 col0\" >24/03/2016 11:52</td>\n",
       "      <td id=\"T_a33da_row0_col1\" class=\"data row0 col1\" >480</td>\n",
       "      <td id=\"T_a33da_row0_col2\" class=\"data row0 col2\" >nan</td>\n",
       "      <td id=\"T_a33da_row0_col3\" class=\"data row0 col3\" >1993</td>\n",
       "      <td id=\"T_a33da_row0_col4\" class=\"data row0 col4\" >manual</td>\n",
       "      <td id=\"T_a33da_row0_col5\" class=\"data row0 col5\" >0</td>\n",
       "      <td id=\"T_a33da_row0_col6\" class=\"data row0 col6\" >golf</td>\n",
       "      <td id=\"T_a33da_row0_col7\" class=\"data row0 col7\" >150000</td>\n",
       "      <td id=\"T_a33da_row0_col8\" class=\"data row0 col8\" >0</td>\n",
       "      <td id=\"T_a33da_row0_col9\" class=\"data row0 col9\" >petrol</td>\n",
       "      <td id=\"T_a33da_row0_col10\" class=\"data row0 col10\" >volkswagen</td>\n",
       "      <td id=\"T_a33da_row0_col11\" class=\"data row0 col11\" >nan</td>\n",
       "      <td id=\"T_a33da_row0_col12\" class=\"data row0 col12\" >24/03/2016 00:00</td>\n",
       "      <td id=\"T_a33da_row0_col13\" class=\"data row0 col13\" >0</td>\n",
       "      <td id=\"T_a33da_row0_col14\" class=\"data row0 col14\" >70435</td>\n",
       "      <td id=\"T_a33da_row0_col15\" class=\"data row0 col15\" >07/04/2016 03:16</td>\n",
       "    </tr>\n",
       "    <tr>\n",
       "      <th id=\"T_a33da_level0_row1\" class=\"row_heading level0 row1\" >1</th>\n",
       "      <td id=\"T_a33da_row1_col0\" class=\"data row1 col0\" >24/03/2016 10:58</td>\n",
       "      <td id=\"T_a33da_row1_col1\" class=\"data row1 col1\" >18300</td>\n",
       "      <td id=\"T_a33da_row1_col2\" class=\"data row1 col2\" >coupe</td>\n",
       "      <td id=\"T_a33da_row1_col3\" class=\"data row1 col3\" >2011</td>\n",
       "      <td id=\"T_a33da_row1_col4\" class=\"data row1 col4\" >manual</td>\n",
       "      <td id=\"T_a33da_row1_col5\" class=\"data row1 col5\" >190</td>\n",
       "      <td id=\"T_a33da_row1_col6\" class=\"data row1 col6\" >nan</td>\n",
       "      <td id=\"T_a33da_row1_col7\" class=\"data row1 col7\" >125000</td>\n",
       "      <td id=\"T_a33da_row1_col8\" class=\"data row1 col8\" >5</td>\n",
       "      <td id=\"T_a33da_row1_col9\" class=\"data row1 col9\" >gasoline</td>\n",
       "      <td id=\"T_a33da_row1_col10\" class=\"data row1 col10\" >audi</td>\n",
       "      <td id=\"T_a33da_row1_col11\" class=\"data row1 col11\" >yes</td>\n",
       "      <td id=\"T_a33da_row1_col12\" class=\"data row1 col12\" >24/03/2016 00:00</td>\n",
       "      <td id=\"T_a33da_row1_col13\" class=\"data row1 col13\" >0</td>\n",
       "      <td id=\"T_a33da_row1_col14\" class=\"data row1 col14\" >66954</td>\n",
       "      <td id=\"T_a33da_row1_col15\" class=\"data row1 col15\" >07/04/2016 01:46</td>\n",
       "    </tr>\n",
       "    <tr>\n",
       "      <th id=\"T_a33da_level0_row2\" class=\"row_heading level0 row2\" >2</th>\n",
       "      <td id=\"T_a33da_row2_col0\" class=\"data row2 col0\" >14/03/2016 12:52</td>\n",
       "      <td id=\"T_a33da_row2_col1\" class=\"data row2 col1\" >9800</td>\n",
       "      <td id=\"T_a33da_row2_col2\" class=\"data row2 col2\" >suv</td>\n",
       "      <td id=\"T_a33da_row2_col3\" class=\"data row2 col3\" >2004</td>\n",
       "      <td id=\"T_a33da_row2_col4\" class=\"data row2 col4\" >auto</td>\n",
       "      <td id=\"T_a33da_row2_col5\" class=\"data row2 col5\" >163</td>\n",
       "      <td id=\"T_a33da_row2_col6\" class=\"data row2 col6\" >grand</td>\n",
       "      <td id=\"T_a33da_row2_col7\" class=\"data row2 col7\" >125000</td>\n",
       "      <td id=\"T_a33da_row2_col8\" class=\"data row2 col8\" >8</td>\n",
       "      <td id=\"T_a33da_row2_col9\" class=\"data row2 col9\" >gasoline</td>\n",
       "      <td id=\"T_a33da_row2_col10\" class=\"data row2 col10\" >jeep</td>\n",
       "      <td id=\"T_a33da_row2_col11\" class=\"data row2 col11\" >nan</td>\n",
       "      <td id=\"T_a33da_row2_col12\" class=\"data row2 col12\" >14/03/2016 00:00</td>\n",
       "      <td id=\"T_a33da_row2_col13\" class=\"data row2 col13\" >0</td>\n",
       "      <td id=\"T_a33da_row2_col14\" class=\"data row2 col14\" >90480</td>\n",
       "      <td id=\"T_a33da_row2_col15\" class=\"data row2 col15\" >05/04/2016 12:47</td>\n",
       "    </tr>\n",
       "    <tr>\n",
       "      <th id=\"T_a33da_level0_row3\" class=\"row_heading level0 row3\" >3</th>\n",
       "      <td id=\"T_a33da_row3_col0\" class=\"data row3 col0\" >17/03/2016 16:54</td>\n",
       "      <td id=\"T_a33da_row3_col1\" class=\"data row3 col1\" >1500</td>\n",
       "      <td id=\"T_a33da_row3_col2\" class=\"data row3 col2\" >small</td>\n",
       "      <td id=\"T_a33da_row3_col3\" class=\"data row3 col3\" >2001</td>\n",
       "      <td id=\"T_a33da_row3_col4\" class=\"data row3 col4\" >manual</td>\n",
       "      <td id=\"T_a33da_row3_col5\" class=\"data row3 col5\" >75</td>\n",
       "      <td id=\"T_a33da_row3_col6\" class=\"data row3 col6\" >golf</td>\n",
       "      <td id=\"T_a33da_row3_col7\" class=\"data row3 col7\" >150000</td>\n",
       "      <td id=\"T_a33da_row3_col8\" class=\"data row3 col8\" >6</td>\n",
       "      <td id=\"T_a33da_row3_col9\" class=\"data row3 col9\" >petrol</td>\n",
       "      <td id=\"T_a33da_row3_col10\" class=\"data row3 col10\" >volkswagen</td>\n",
       "      <td id=\"T_a33da_row3_col11\" class=\"data row3 col11\" >no</td>\n",
       "      <td id=\"T_a33da_row3_col12\" class=\"data row3 col12\" >17/03/2016 00:00</td>\n",
       "      <td id=\"T_a33da_row3_col13\" class=\"data row3 col13\" >0</td>\n",
       "      <td id=\"T_a33da_row3_col14\" class=\"data row3 col14\" >91074</td>\n",
       "      <td id=\"T_a33da_row3_col15\" class=\"data row3 col15\" >17/03/2016 17:40</td>\n",
       "    </tr>\n",
       "    <tr>\n",
       "      <th id=\"T_a33da_level0_row4\" class=\"row_heading level0 row4\" >4</th>\n",
       "      <td id=\"T_a33da_row4_col0\" class=\"data row4 col0\" >31/03/2016 17:25</td>\n",
       "      <td id=\"T_a33da_row4_col1\" class=\"data row4 col1\" >3600</td>\n",
       "      <td id=\"T_a33da_row4_col2\" class=\"data row4 col2\" >small</td>\n",
       "      <td id=\"T_a33da_row4_col3\" class=\"data row4 col3\" >2008</td>\n",
       "      <td id=\"T_a33da_row4_col4\" class=\"data row4 col4\" >manual</td>\n",
       "      <td id=\"T_a33da_row4_col5\" class=\"data row4 col5\" >69</td>\n",
       "      <td id=\"T_a33da_row4_col6\" class=\"data row4 col6\" >fabia</td>\n",
       "      <td id=\"T_a33da_row4_col7\" class=\"data row4 col7\" >90000</td>\n",
       "      <td id=\"T_a33da_row4_col8\" class=\"data row4 col8\" >7</td>\n",
       "      <td id=\"T_a33da_row4_col9\" class=\"data row4 col9\" >gasoline</td>\n",
       "      <td id=\"T_a33da_row4_col10\" class=\"data row4 col10\" >skoda</td>\n",
       "      <td id=\"T_a33da_row4_col11\" class=\"data row4 col11\" >no</td>\n",
       "      <td id=\"T_a33da_row4_col12\" class=\"data row4 col12\" >31/03/2016 00:00</td>\n",
       "      <td id=\"T_a33da_row4_col13\" class=\"data row4 col13\" >0</td>\n",
       "      <td id=\"T_a33da_row4_col14\" class=\"data row4 col14\" >60437</td>\n",
       "      <td id=\"T_a33da_row4_col15\" class=\"data row4 col15\" >06/04/2016 10:17</td>\n",
       "    </tr>\n",
       "  </tbody>\n",
       "</table>\n"
      ],
      "text/plain": [
       "<pandas.io.formats.style.Styler at 0x7f2b1c1c6f40>"
      ]
     },
     "execution_count": 5,
     "metadata": {},
     "output_type": "execute_result"
    }
   ],
   "source": [
    "# Identificación de celdas vacías\n",
    "def resaltar_nan(valor):\n",
    "    color = 'red' if pd.isnull(valor) else ''\n",
    "    return f'color: {color}'\n",
    "\n",
    "# Muestra de las primeras filas\n",
    "df.head().style.applymap(resaltar_nan)"
   ]
  },
  {
   "cell_type": "markdown",
   "id": "38736b6f-a145-4790-917e-3b8254fdeedd",
   "metadata": {},
   "source": [
    "Los valores ausentes se encontraron solamente en cinco variables, todas ellas categóricas. Estos se tratarán posteriormente para asegurar la calidad y precisión del análisis."
   ]
  },
  {
   "cell_type": "code",
   "execution_count": 6,
   "id": "be163fb0-abb7-4307-abea-8fc90d2579d9",
   "metadata": {},
   "outputs": [
    {
     "name": "stdout",
     "output_type": "stream",
     "text": [
      "Total de observaciones duplicadas: 262\n"
     ]
    }
   ],
   "source": [
    "# Conteo de observaciones duplicadas\n",
    "print('Total de observaciones duplicadas:', df.duplicated().sum())"
   ]
  },
  {
   "cell_type": "markdown",
   "id": "f2873259-d9f4-4685-a265-9f5e83849888",
   "metadata": {},
   "source": [
    "Asimismo, se encontró un total de 262 observaciones duplicadas. Estas también se tratarán posteriormente."
   ]
  },
  {
   "cell_type": "markdown",
   "id": "4699607d-6c73-4dd9-8d90-9ba40f8a8b3e",
   "metadata": {},
   "source": [
    "### Hallazgos de la sección\n",
    "\n",
    "Como conclusión de la exploración preliminar del conjunto de datos, se identificó que, tras una selección cuidadosa de las características relevantes para el valor de los vehículos, el dataset se redujo de 16 a 10 columnas manteniendo las 354,369 observaciones originales.\n",
    "\n",
    "Durante el análisis exploratorio se detectaron varios aspectos que requieren atención para asegurar la calidad y coherencia del modelo: \n",
    "\n",
    "- es necesario estandarizar los nombres de las columnas a formato `snake_case` para mejorar la legibilidad y mantenimiento del código; \n",
    "\n",
    "- se identificaron 262 registros duplicados que deben eliminarse para evitar sesgos en el análisis y modelado\n",
    "\n",
    "- hay varias columnas irrelevantes que se eliminarán\n",
    "\n",
    "- se hallaron valores ausentes en cinco columnas que deben ser investigados para determinar su origen y la mejor estrategia de imputación o manejo"
   ]
  },
  {
   "cell_type": "markdown",
   "id": "02cfceb1-f73e-4ed2-9a6e-39e321b94d30",
   "metadata": {},
   "source": [
    "## Visualización de datos\n",
    "\n",
    "En el conjunto de datos se encuentran variables categóricas y numéricas. Se explorarán ambas características para observar la distribución de los datos. Para ello, las variables discretas se almacenarán en `categorical_data` y las variables continuas en `numerical_data`."
   ]
  },
  {
   "cell_type": "markdown",
   "id": "440db3de-fe0d-4738-a031-732862a4ee00",
   "metadata": {},
   "source": [
    "### Características categóricas"
   ]
  },
  {
   "cell_type": "code",
   "execution_count": 7,
   "id": "af9f99c3-3a51-4901-8d02-cc7fa0aba7c4",
   "metadata": {},
   "outputs": [
    {
     "name": "stdout",
     "output_type": "stream",
     "text": [
      "VehicleType: 8\n",
      "Gearbox: 2\n",
      "Model: 250\n",
      "FuelType: 7\n",
      "Brand: 40\n",
      "NotRepaired: 2\n"
     ]
    }
   ],
   "source": [
    "# Almacenamiento de variables categóricas\n",
    "categorical_data = df[['VehicleType', 'Gearbox', 'Model', 'FuelType', 'Brand', 'NotRepaired']]\n",
    "\n",
    "# Conteo de valores únicos de cada variable\n",
    "for col in categorical_data:\n",
    "    print(f'{col}: {categorical_data[col].nunique()}')"
   ]
  },
  {
   "cell_type": "markdown",
   "id": "4b45da8f-3d38-48cb-89cc-353686f9eb12",
   "metadata": {},
   "source": [
    "A continuación se visualizará la distribución de las variables categóricas. Cabe destacar que la variable `Model` presenta 250 valores únicos, mientras que `Brand` cuenta con 40 valores únicos. Para una visualización más clara de estas variables, se presentarán únicamente las 20 categorías con mayor frecuencia."
   ]
  },
  {
   "cell_type": "code",
   "execution_count": 8,
   "id": "ac37837c-9c40-4af5-a4fc-36a41bf6bd2b",
   "metadata": {},
   "outputs": [
    {
     "name": "stderr",
     "output_type": "stream",
     "text": [
      "/tmp/ipykernel_9256/3510125851.py:9: MatplotlibDeprecationWarning: Auto-removal of overlapping axes is deprecated since 3.6 and will be removed two minor releases later; explicitly call ax.remove() as needed.\n",
      "  plt.subplot(filas, columnas, contador)\n"
     ]
    },
    {
     "data": {
      "image/png": "[encoded data removed]",
      "text/plain": [
       "<Figure size 1500x1000 with 6 Axes>"
      ]
     },
     "metadata": {},
     "output_type": "display_data"
    }
   ],
   "source": [
    "# Visualización de la distribución de las variables categóricas\n",
    "filas = 2 \n",
    "columnas = 3 \n",
    "contador = 1 \n",
    "\n",
    "fig = plt.subplots(figsize=(15, 10)) \n",
    "\n",
    "for i in categorical_data:\n",
    "    plt.subplot(filas, columnas, contador) \n",
    "    plt.title(i)\n",
    "    plt.ylabel('%')\n",
    "    df[i].value_counts(normalize=True).head(20).plot(kind='bar', title=i, rot=60, edgecolor = 'black', linewidth = 0.8)\n",
    "    contador += 1\n",
    "\n",
    "plt.suptitle('Distribución de variables categóricas', fontsize='xx-large')\n",
    "plt.tight_layout()\n",
    "plt.show()"
   ]
  },
  {
   "cell_type": "markdown",
   "id": "d525db0e-3db7-44a6-8e17-2e41d7d1d197",
   "metadata": {},
   "source": [
    "- Al revisar los tipos de vehículos, se identifican ocho, predominando el tipo sedán con aproximadamente un 30%. En cuanto al tipo de caja, se registran dos categorías: manual y automática, siendo la transmisión manual la más frecuente con cerca del 80%. Respecto al modelo, más del 80% corresponde al modelo Golf, dentro de un total de 250 modelos registrados. \n",
    "\n",
    "- En relación al tipo de combustible, se observa que casi del 70% de vehículos utilizar \"petrol\", mientras que alrededor del 30% utiliza \"gasoline\". En realidad, estas dos categorías deben unificarse, puesto que \"petrol\" es el nombre que se utiliza en el Reino Unido para referirse a la gasolina.\n",
    "\n",
    "- Las marcas con mayor presencia son Volkswagen (más del 20%), seguida de Opel (más del 10%) y BMW (cerca del 10%). Finalmente, más del 80% de los vehículos presentan reparaciones, mientras que el 20% restante no.\n",
    "\n",
    "- Cabe recordar que las características `VehicleType`, `Gearbox`, `Model`, `FuelType` y `NotRepaired` registran valores ausentes, los cuales serán analizados posteriomente. "
   ]
  },
  {
   "cell_type": "markdown",
   "id": "40345c05-b2a3-4521-a579-d2e8ae321eff",
   "metadata": {},
   "source": [
    "### Características numéricas"
   ]
  },
  {
   "cell_type": "code",
   "execution_count": 9,
   "id": "09be6d4c-5f0d-409d-b258-3deb248ec416",
   "metadata": {},
   "outputs": [
    {
     "data": {
      "text/html": [
       "<div>\n",
       "<style scoped>\n",
       "    .dataframe tbody tr th:only-of-type {\n",
       "        vertical-align: middle;\n",
       "    }\n",
       "\n",
       "    .dataframe tbody tr th {\n",
       "        vertical-align: top;\n",
       "    }\n",
       "\n",
       "    .dataframe thead th {\n",
       "        text-align: right;\n",
       "    }\n",
       "</style>\n",
       "<table border=\"1\" class=\"dataframe\">\n",
       "  <thead>\n",
       "    <tr style=\"text-align: right;\">\n",
       "      <th></th>\n",
       "      <th>Price</th>\n",
       "      <th>RegistrationYear</th>\n",
       "      <th>Power</th>\n",
       "      <th>Mileage</th>\n",
       "    </tr>\n",
       "  </thead>\n",
       "  <tbody>\n",
       "    <tr>\n",
       "      <th>count</th>\n",
       "      <td>354369.00</td>\n",
       "      <td>354369.00</td>\n",
       "      <td>354369.00</td>\n",
       "      <td>354369.00</td>\n",
       "    </tr>\n",
       "    <tr>\n",
       "      <th>mean</th>\n",
       "      <td>4416.66</td>\n",
       "      <td>2004.23</td>\n",
       "      <td>110.09</td>\n",
       "      <td>128211.17</td>\n",
       "    </tr>\n",
       "    <tr>\n",
       "      <th>std</th>\n",
       "      <td>4514.16</td>\n",
       "      <td>90.23</td>\n",
       "      <td>189.85</td>\n",
       "      <td>37905.34</td>\n",
       "    </tr>\n",
       "    <tr>\n",
       "      <th>min</th>\n",
       "      <td>0.00</td>\n",
       "      <td>1000.00</td>\n",
       "      <td>0.00</td>\n",
       "      <td>5000.00</td>\n",
       "    </tr>\n",
       "    <tr>\n",
       "      <th>25%</th>\n",
       "      <td>1050.00</td>\n",
       "      <td>1999.00</td>\n",
       "      <td>69.00</td>\n",
       "      <td>125000.00</td>\n",
       "    </tr>\n",
       "    <tr>\n",
       "      <th>50%</th>\n",
       "      <td>2700.00</td>\n",
       "      <td>2003.00</td>\n",
       "      <td>105.00</td>\n",
       "      <td>150000.00</td>\n",
       "    </tr>\n",
       "    <tr>\n",
       "      <th>75%</th>\n",
       "      <td>6400.00</td>\n",
       "      <td>2008.00</td>\n",
       "      <td>143.00</td>\n",
       "      <td>150000.00</td>\n",
       "    </tr>\n",
       "    <tr>\n",
       "      <th>max</th>\n",
       "      <td>20000.00</td>\n",
       "      <td>9999.00</td>\n",
       "      <td>20000.00</td>\n",
       "      <td>150000.00</td>\n",
       "    </tr>\n",
       "  </tbody>\n",
       "</table>\n",
       "</div>"
      ],
      "text/plain": [
       "           Price  RegistrationYear      Power    Mileage\n",
       "count  354369.00         354369.00  354369.00  354369.00\n",
       "mean     4416.66           2004.23     110.09  128211.17\n",
       "std      4514.16             90.23     189.85   37905.34\n",
       "min         0.00           1000.00       0.00    5000.00\n",
       "25%      1050.00           1999.00      69.00  125000.00\n",
       "50%      2700.00           2003.00     105.00  150000.00\n",
       "75%      6400.00           2008.00     143.00  150000.00\n",
       "max     20000.00           9999.00   20000.00  150000.00"
      ]
     },
     "execution_count": 9,
     "metadata": {},
     "output_type": "execute_result"
    }
   ],
   "source": [
    "# Resumen estadístico de variables numéricas\n",
    "numerical_data = df[['Price','RegistrationYear','Power','Mileage']]\n",
    "\n",
    "numerical_data.describe().round(2)"
   ]
  },
  {
   "cell_type": "code",
   "execution_count": 10,
   "id": "e3599290-ea8f-42ee-b17c-854519d3e250",
   "metadata": {},
   "outputs": [
    {
     "name": "stderr",
     "output_type": "stream",
     "text": [
      "/tmp/ipykernel_9256/4056231810.py:9: MatplotlibDeprecationWarning: Auto-removal of overlapping axes is deprecated since 3.6 and will be removed two minor releases later; explicitly call ax.remove() as needed.\n",
      "  plt.subplot(filas, columnas, contador)\n"
     ]
    },
    {
     "data": {
      "image/png": "[encoded data removed]",
      "text/plain": [
       "<Figure size 1500x1000 with 4 Axes>"
      ]
     },
     "metadata": {},
     "output_type": "display_data"
    }
   ],
   "source": [
    "# Visualización de la distribución de las variables categóricas\n",
    "filas = 2\n",
    "columnas = 2\n",
    "contador = 1\n",
    "\n",
    "fig = plt.subplots(figsize=(15, 10))\n",
    "\n",
    "for variable in numerical_data:\n",
    "    plt.subplot(filas, columnas, contador)\n",
    "    df[variable].plot(kind='box', vert=True)\n",
    "    contador += 1\n",
    "\n",
    "plt.suptitle('Distribución de variables numéricas', fontsize='xx-large')\n",
    "plt.tight_layout()\n",
    "plt.show()"
   ]
  },
  {
   "cell_type": "code",
   "execution_count": 11,
   "id": "adb5559c-3b86-4643-96aa-8af16a048c35",
   "metadata": {},
   "outputs": [
    {
     "data": {
      "text/html": [
       "<div>\n",
       "<style scoped>\n",
       "    .dataframe tbody tr th:only-of-type {\n",
       "        vertical-align: middle;\n",
       "    }\n",
       "\n",
       "    .dataframe tbody tr th {\n",
       "        vertical-align: top;\n",
       "    }\n",
       "\n",
       "    .dataframe thead th {\n",
       "        text-align: right;\n",
       "    }\n",
       "</style>\n",
       "<table border=\"1\" class=\"dataframe\">\n",
       "  <thead>\n",
       "    <tr style=\"text-align: right;\">\n",
       "      <th></th>\n",
       "      <th>Valores atípicos</th>\n",
       "      <th>%</th>\n",
       "    </tr>\n",
       "  </thead>\n",
       "  <tbody>\n",
       "    <tr>\n",
       "      <th>Price</th>\n",
       "      <td>18979</td>\n",
       "      <td>5.36</td>\n",
       "    </tr>\n",
       "    <tr>\n",
       "      <th>RegistrationYear</th>\n",
       "      <td>6309</td>\n",
       "      <td>1.78</td>\n",
       "    </tr>\n",
       "    <tr>\n",
       "      <th>Power</th>\n",
       "      <td>7340</td>\n",
       "      <td>2.07</td>\n",
       "    </tr>\n",
       "    <tr>\n",
       "      <th>Mileage</th>\n",
       "      <td>53257</td>\n",
       "      <td>15.03</td>\n",
       "    </tr>\n",
       "  </tbody>\n",
       "</table>\n",
       "</div>"
      ],
      "text/plain": [
       "                  Valores atípicos      %\n",
       "Price                        18979   5.36\n",
       "RegistrationYear              6309   1.78\n",
       "Power                         7340   2.07\n",
       "Mileage                      53257  15.03"
      ]
     },
     "metadata": {},
     "output_type": "display_data"
    }
   ],
   "source": [
    "# Análisis de valores atípicos en categorías numéricas\n",
    "\n",
    "# umbral para valores atípicos (1.5 * IQR)\n",
    "threshold = 1.5\n",
    "outlier_stats = {}\n",
    "\n",
    "# Cálculo de cuartiles\n",
    "for col in df.select_dtypes(include=['int64']).columns:\n",
    "    q1 = df[col].quantile(0.25)\n",
    "    q3 = df[col].quantile(0.75)\n",
    "    \n",
    "    # Cálculo de IQR\n",
    "    iqr = q3 - q1\n",
    "    \n",
    "    # Definición de límites para valores atípicos\n",
    "    lower_bound = q1 - (threshold * iqr)\n",
    "    upper_bound = q3 + (threshold * iqr)\n",
    "    \n",
    "    # identificación de valores atípicos\n",
    "    outliers = df[(df[col] < lower_bound) | (df[col] > upper_bound)]\n",
    "    \n",
    "    # número de valores atípicos\n",
    "    num_outliers = len(outliers)\n",
    "    \n",
    "    # porcentaje de datos\n",
    "    pct_lost = (num_outliers / len(df)) * 100\n",
    "    \n",
    "    # actualización de diccionario\n",
    "    outlier_stats[col] = {'num_outliers': num_outliers, 'pct_lost': pct_lost}\n",
    "\n",
    "# Creación de tabla con resultados\n",
    "outlier_table = pd.DataFrame.from_dict(outlier_stats, orient='index')\n",
    "outlier_table.columns = ['Valores atípicos', '%']\n",
    "display(outlier_table[outlier_table['Valores atípicos'] > 0].round(2))"
   ]
  },
  {
   "cell_type": "markdown",
   "id": "c1d2de97-82bc-4a0f-8b4d-6bb16e1c142b",
   "metadata": {},
   "source": [
    "- El precio promedio de los vehículos es aproximadamente \\\\$4,416.66, con una desviación estándar elevada de 4,514.16, lo que refleja una alta variabilidad en los precios. El rango va desde un mínimo de \\\\$0 hasta un máximo de $20,000. Los valores cero podrían corresponder a registros donde el vendedor no especificó el precio para que los interesados contacten directamente, por lo que es necesario tratar adecuadamente estos casos antes de construir el modelo predictivo.\n",
    "  \n",
    "- El año de registro promedio es 2004, con una mediana cercana en 2003. Se observa un rango muy amplio, desde 1000 hasta 9999, ambos claramente atípicos. El rango intercuartílico se sitúa entre 1999 y 2008, indicando que la mayoría de los vehículos corresponden a años modernos y realistas.\n",
    "  \n",
    "- La potencia promedio es 110.09 HP, con una desviación estándar alta de 189.85 y un valor máximo extremo de 20,000, lo que sugiere la presencia de valores atípicos o errores en los datos. Esto se confirma con un 2.07% de valores atípicos detectados.\n",
    "  \n",
    "- El kilometraje promedio es 128,211 km, con un mínimo de 5,000 y un máximo de 150,000 km. El valor de 150,000 corresponde al percentil 75 y al máximo registrado, lo que indica que podría ser un límite impuesto en la base de datos. Aunque existen valores atípicos, estos podrían representar vehículos con bajo uso."
   ]
  },
  {
   "cell_type": "markdown",
   "id": "ce5b88c6-30f3-4f29-ac67-350a97fada86",
   "metadata": {},
   "source": [
    "### Conclusiones de sección\n",
    "\n",
    "De las variables categóricas, únicamente la variable `Brand` se encuentra completa. Es necesario evaluar de forma individual la viabilidad de imputar los valores faltantes en las variables `VehicleType`, `Gearbox`, `Model`, `FuelType` y `NotRepaired` mediante técnicas adecuadas, considerando alternativas como la imputación con la categoría más frecuente o métodos basados en aprendizaje automático para evitar sesgos y pérdida de información.\n",
    "\n",
    "Por otro lado, el análisis estadístico preliminar de las variables numéricas revela la presencia de valores atípicos y registros anómalos que requieren un tratamiento cuidadoso."
   ]
  },
  {
   "cell_type": "markdown",
   "id": "24258115-ac81-495e-ae18-c6ec13e7c7ec",
   "metadata": {},
   "source": [
    "# Procesamiento de datos"
   ]
  },
  {
   "cell_type": "markdown",
   "id": "8a6c7786-733f-4a75-a91a-23d2dcada080",
   "metadata": {},
   "source": [
    "## Estandarización de nombres de columnas"
   ]
  },
  {
   "cell_type": "code",
   "execution_count": 12,
   "id": "72d20446-5c18-41dc-b982-4bcc5cb52988",
   "metadata": {},
   "outputs": [
    {
     "data": {
      "text/plain": [
       "Index(['date_crawled', 'price', 'vehicle_type', 'registration_year', 'gearbox',\n",
       "       'power', 'model', 'mileage', 'registration_month', 'fuel_type', 'brand',\n",
       "       'not_repaired', 'date_created', 'number_of_pictures', 'postal_code',\n",
       "       'last_seen'],\n",
       "      dtype='object')"
      ]
     },
     "execution_count": 12,
     "metadata": {},
     "output_type": "execute_result"
    }
   ],
   "source": [
    "# Cambio de nombres a estilo snake_case\n",
    "df.columns = df.columns.str.replace(r'([A-Z])', r'_\\1', regex=True).str.strip('_').str.lower()\n",
    "df.columns"
   ]
  },
  {
   "cell_type": "markdown",
   "id": "6b6443e3-865a-4e06-b1fd-ced6911cbf61",
   "metadata": {},
   "source": [
    "## Eliminación de observaciones duplicadas"
   ]
  },
  {
   "cell_type": "code",
   "execution_count": 13,
   "id": "dbc7aa14-3769-482a-bce9-dc037efe3c36",
   "metadata": {},
   "outputs": [
    {
     "name": "stdout",
     "output_type": "stream",
     "text": [
      "Número de valores duplicados: 0\n"
     ]
    }
   ],
   "source": [
    "# Eliminación de observaciones duplicadas\n",
    "df = df.drop_duplicates().reset_index(drop=True)\n",
    "print(f'Número de valores duplicados: {df.duplicated().sum()}')"
   ]
  },
  {
   "cell_type": "markdown",
   "id": "c87ff644-2fe0-40b6-ac2e-c0029fbe2a50",
   "metadata": {},
   "source": [
    "## Eliminación de características irrelevantes"
   ]
  },
  {
   "cell_type": "code",
   "execution_count": 14,
   "id": "23a0b53a-91ca-4f52-aa3f-669b2cdb9d41",
   "metadata": {},
   "outputs": [
    {
     "name": "stdout",
     "output_type": "stream",
     "text": [
      "<class 'pandas.core.frame.DataFrame'>\n",
      "RangeIndex: 354107 entries, 0 to 354106\n",
      "Data columns (total 10 columns):\n",
      " #   Column             Non-Null Count   Dtype \n",
      "---  ------             --------------   ----- \n",
      " 0   price              354107 non-null  int64 \n",
      " 1   vehicle_type       316623 non-null  object\n",
      " 2   registration_year  354107 non-null  int64 \n",
      " 3   gearbox            334277 non-null  object\n",
      " 4   power              354107 non-null  int64 \n",
      " 5   model              334406 non-null  object\n",
      " 6   mileage            354107 non-null  int64 \n",
      " 7   fuel_type          321218 non-null  object\n",
      " 8   brand              354107 non-null  object\n",
      " 9   not_repaired       282962 non-null  object\n",
      "dtypes: int64(4), object(6)\n",
      "memory usage: 27.0+ MB\n",
      "(354107, 10)\n"
     ]
    }
   ],
   "source": [
    "# Eliminación de características irrelevantes\n",
    "df_auto = df.drop(columns=['registration_month', 'date_crawled', 'date_created', 'number_of_pictures', 'postal_code', 'last_seen'])\n",
    "df_auto.info()\n",
    "\n",
    "print(df_auto.shape)"
   ]
  },
  {
   "cell_type": "markdown",
   "id": "eeb5d725-8efe-4028-a6a3-6dd786704186",
   "metadata": {},
   "source": [
    "Se eliminaron las variables `'registration_month'`, `'date_crawled'`, `'date_created'`, `'number_of_pictures'`, `'postal_code'` y `'last_seen'` debido a que no influyen directamente en la determinación del precio de un vehículo. Esta decisión busca reducir el ruido en los datos y mejorar la calidad de los próximos modelos."
   ]
  },
  {
   "cell_type": "markdown",
   "id": "5c19cf92-470f-4a78-a929-5d497727fb62",
   "metadata": {},
   "source": [
    "## Valores ausentes en variables categóricas"
   ]
  },
  {
   "cell_type": "code",
   "execution_count": 15,
   "id": "741f8461-b4dc-4e05-9f29-280c8411efc4",
   "metadata": {},
   "outputs": [
    {
     "data": {
      "text/html": [
       "<div>\n",
       "<style scoped>\n",
       "    .dataframe tbody tr th:only-of-type {\n",
       "        vertical-align: middle;\n",
       "    }\n",
       "\n",
       "    .dataframe tbody tr th {\n",
       "        vertical-align: top;\n",
       "    }\n",
       "\n",
       "    .dataframe thead th {\n",
       "        text-align: right;\n",
       "    }\n",
       "</style>\n",
       "<table border=\"1\" class=\"dataframe\">\n",
       "  <thead>\n",
       "    <tr style=\"text-align: right;\">\n",
       "      <th></th>\n",
       "      <th>Valores ausentes</th>\n",
       "      <th>%</th>\n",
       "    </tr>\n",
       "  </thead>\n",
       "  <tbody>\n",
       "    <tr>\n",
       "      <th>vehicle_type</th>\n",
       "      <td>37484</td>\n",
       "      <td>10.59</td>\n",
       "    </tr>\n",
       "    <tr>\n",
       "      <th>gearbox</th>\n",
       "      <td>19830</td>\n",
       "      <td>5.60</td>\n",
       "    </tr>\n",
       "    <tr>\n",
       "      <th>model</th>\n",
       "      <td>19701</td>\n",
       "      <td>5.56</td>\n",
       "    </tr>\n",
       "    <tr>\n",
       "      <th>fuel_type</th>\n",
       "      <td>32889</td>\n",
       "      <td>9.29</td>\n",
       "    </tr>\n",
       "    <tr>\n",
       "      <th>not_repaired</th>\n",
       "      <td>71145</td>\n",
       "      <td>20.09</td>\n",
       "    </tr>\n",
       "  </tbody>\n",
       "</table>\n",
       "</div>"
      ],
      "text/plain": [
       "              Valores ausentes      %\n",
       "vehicle_type             37484  10.59\n",
       "gearbox                  19830   5.60\n",
       "model                    19701   5.56\n",
       "fuel_type                32889   9.29\n",
       "not_repaired             71145  20.09"
      ]
     },
     "execution_count": 15,
     "metadata": {},
     "output_type": "execute_result"
    }
   ],
   "source": [
    "# Conteo de valores ausentes\n",
    "nan_count = df_auto.isna().sum()\n",
    "nan_percent = 100 * df_auto.isna().sum() / len(df_auto)\n",
    "       \n",
    "nan_table = pd.concat([nan_count, nan_percent], axis=1).round(2)\n",
    "nan_table.columns = ['Valores ausentes', '%']\n",
    "\n",
    "nan_table[nan_table.iloc[:,1] != 0]"
   ]
  },
  {
   "cell_type": "markdown",
   "id": "a56e1cab-09b5-4b28-ab9d-31fc85708706",
   "metadata": {},
   "source": [
    "Se procederá a explorar cada variable de forma individual, con el objetivo de imputar los datos faltantes en la mayor medida posible"
   ]
  },
  {
   "cell_type": "markdown",
   "id": "e96e00d3-5efc-4969-af19-bff2303fb558",
   "metadata": {},
   "source": [
    "### Gearbox"
   ]
  },
  {
   "cell_type": "code",
   "execution_count": 16,
   "id": "9bbd4dd1-dd0c-4d4a-a021-6db9ef936d32",
   "metadata": {},
   "outputs": [
    {
     "data": {
      "text/plain": [
       "gearbox\n",
       "manual    0.756929\n",
       "auto      0.187071\n",
       "NaN       0.056000\n",
       "Name: proportion, dtype: float64"
      ]
     },
     "execution_count": 16,
     "metadata": {},
     "output_type": "execute_result"
    }
   ],
   "source": [
    "# Análisis de distribución relativa de la variable categórica 'gearbox'\n",
    "df_auto['gearbox'].value_counts(dropna=False, normalize=True)"
   ]
  },
  {
   "cell_type": "markdown",
   "id": "3a558caa-ef20-44c1-8180-21dcd3a3a738",
   "metadata": {},
   "source": [
    "Para esta variable, se realizará un filtrado del conjunto de datos excluyendo aquellos registros con valores ausentes en las columnas `'gearbox'` y `'model'`. A continuación, se construirá una tabla dinámica que calcule la moda para cada combinación. Los valores faltantes en estas variables serán imputados con la moda correspondiente. En los casos en que no sea posible determinar una moda, se asignará el valor `'unknown'`."
   ]
  },
  {
   "cell_type": "code",
   "execution_count": 17,
   "id": "5c1dd6ca-88b0-4f33-ab9d-17a81ed5bcf6",
   "metadata": {},
   "outputs": [],
   "source": [
    "# Filtrado de dataset sin valores ausentes en 'gearbox' y 'model', y creación de tabla dinámica que devuelva la moda  \n",
    "gearbox_without_nan = df_auto.dropna(subset=['gearbox', 'model'])\n",
    "gearbox_model = gearbox_without_nan.pivot_table(index=['brand','model'], values='gearbox', aggfunc=mode)\n",
    "\n",
    "# Función fill_gearbox para llenado de valores faltantes usando la moda por marca y modelo\n",
    "def fill_gearbox(row):\n",
    "   \n",
    "    model = row['model']\n",
    "    gearbox = row['gearbox']\n",
    "    brand = row['brand']\n",
    "\n",
    "    if pd.isna(gearbox):\n",
    "        try:\n",
    "            return gearbox_model.loc[(brand, model), 'gearbox']\n",
    "        except:\n",
    "            return 'unknown'\n",
    "    return gearbox"
   ]
  },
  {
   "cell_type": "code",
   "execution_count": 18,
   "id": "ef7e6717-aff1-4221-b76e-20032c19eb5f",
   "metadata": {},
   "outputs": [
    {
     "name": "stdout",
     "output_type": "stream",
     "text": [
      "0     manual\n",
      "1    unknown\n",
      "dtype: object\n"
     ]
    }
   ],
   "source": [
    "# Comprobación de funcionamiento correcto\n",
    "filas = [\n",
    "    ['alfa_romeo', '145', np.nan],\n",
    "    ['falso', 'modelo', np.nan]\n",
    "]\n",
    "columnas = ['brand', 'model', 'gearbox']\n",
    "prueba_df = pd.DataFrame(data=filas, columns=columnas)\n",
    "\n",
    "prueba_df = prueba_df.apply(fill_gearbox, axis=1)\n",
    "print(prueba_df)"
   ]
  },
  {
   "cell_type": "code",
   "execution_count": 19,
   "id": "04ccc369-b40a-4442-99b1-c1c69a42ff34",
   "metadata": {},
   "outputs": [
    {
     "name": "stdout",
     "output_type": "stream",
     "text": [
      "Observaciones cuyo tipo no pudo establecerse: 4130\n"
     ]
    }
   ],
   "source": [
    "# Aplicación de la función al df\n",
    "df_auto['gearbox'] = df_auto.apply(fill_gearbox, axis = 1)\n",
    "\n",
    "# Conteo de observaciones cuyo tipo no pudo establecerse\n",
    "print('Observaciones cuyo tipo no pudo establecerse:', len(df_auto.loc[df_auto['gearbox'] == 'unknown']))"
   ]
  },
  {
   "cell_type": "code",
   "execution_count": 20,
   "id": "bffcef8f-34e2-4681-8cb5-e76afb7acdd5",
   "metadata": {},
   "outputs": [
    {
     "name": "stdout",
     "output_type": "stream",
     "text": [
      "Valores únicos en gearbox:\n",
      "gearbox\n",
      "manual     0.795759\n",
      "auto       0.192577\n",
      "unknown    0.011663\n",
      "Name: proportion, dtype: float64\n"
     ]
    }
   ],
   "source": [
    "# Análisis de distribución relativa tras llenado\n",
    "print('Valores únicos en gearbox:')\n",
    "print(df_auto['gearbox'].value_counts(dropna=False, normalize=True))"
   ]
  },
  {
   "cell_type": "markdown",
   "id": "94cb41d2-82a7-45cb-aa1b-382be069f454",
   "metadata": {},
   "source": [
    "### Model"
   ]
  },
  {
   "cell_type": "markdown",
   "id": "23f3156c-5850-4a37-8361-cceddf184da4",
   "metadata": {},
   "source": [
    "Para esta variable, se realizará un filtrado del conjunto de datos excluyendo aquellos registros con valores ausentes en las columnas `'brand'` y `'registration_year'`. A continuación, se construirá una tabla dinámica que calcule la moda para cada combinación. Los valores faltantes en estas variables serán imputados con la moda correspondiente. En los casos en que no sea posible determinar una moda, se asignará el valor `'unknown'`."
   ]
  },
  {
   "cell_type": "code",
   "execution_count": 21,
   "id": "cb28b2b1-c8f0-4aa1-a1a5-6f7b64e37db9",
   "metadata": {},
   "outputs": [],
   "source": [
    "# Filtrado de dataset sin valores ausentes en 'model', y creación de tabla dinámica que devuelva la moda \n",
    "model_without_nan = df.dropna(subset=['model'])\n",
    "model_brand = model_without_nan.pivot_table(index=['brand', 'registration_year'], values='model', aggfunc=mode)\n",
    "\n",
    "# Función para llenado de valores faltantes\n",
    "def fill_model(row):\n",
    "    \n",
    "    model = row['model']\n",
    "    registration_year = row['registration_year']\n",
    "    brand = row['brand']\n",
    "    \n",
    "    if pd.isna(model):\n",
    "        try:\n",
    "            return model_brand.loc[(brand, registration_year), 'model']\n",
    "        except:\n",
    "            return 'unknown'\n",
    "    return model"
   ]
  },
  {
   "cell_type": "code",
   "execution_count": 22,
   "id": "c43386ad-604b-4e9b-a6e9-9a4e371161fa",
   "metadata": {},
   "outputs": [
    {
     "name": "stdout",
     "output_type": "stream",
     "text": [
      "0        v60\n",
      "1    unknown\n",
      "dtype: object\n"
     ]
    }
   ],
   "source": [
    "# Comprobación de funcionamiento correcto\n",
    "row_values = [\n",
    "    ['volvo', 2013, np.nan],\n",
    "    ['falso', 'modelo', np.nan]\n",
    "]\n",
    "row_columns = ['brand', 'registration_year', 'model']\n",
    "\n",
    "prueba_df = pd.DataFrame(data=row_values, columns=row_columns)\n",
    "\n",
    "prueba_df = prueba_df.apply(fill_model, axis=1)\n",
    "print(prueba_df)"
   ]
  },
  {
   "cell_type": "code",
   "execution_count": 23,
   "id": "5be8a0b5-4b5b-4570-8247-32850d9abe1b",
   "metadata": {},
   "outputs": [
    {
     "name": "stdout",
     "output_type": "stream",
     "text": [
      "Observaciones cuyo tipo no pudo establecerse: 3441\n"
     ]
    }
   ],
   "source": [
    "# Aplicación de la función al df\n",
    "df_auto['model'] = df_auto.apply(fill_model, axis = 1)\n",
    "\n",
    "# Conteo de observaciones cuyo tipo no pudo establecerse\n",
    "print('Observaciones cuyo tipo no pudo establecerse:', len(df_auto.loc[df_auto['model'] == 'unknown']))"
   ]
  },
  {
   "cell_type": "code",
   "execution_count": 24,
   "id": "bfed99fa-a286-4e88-9fd8-c04f05b77614",
   "metadata": {},
   "outputs": [
    {
     "name": "stdout",
     "output_type": "stream",
     "text": [
      "Valores únicos en model:\n",
      "model\n",
      "golf                  0.092263\n",
      "other                 0.073085\n",
      "3er                   0.061061\n",
      "corsa                 0.039186\n",
      "polo                  0.036873\n",
      "                        ...   \n",
      "i3                    0.000023\n",
      "rangerover            0.000011\n",
      "serie_3               0.000011\n",
      "range_rover_evoque    0.000006\n",
      "serie_1               0.000006\n",
      "Name: proportion, Length: 251, dtype: float64\n"
     ]
    }
   ],
   "source": [
    "# Análisis de distribución relativa tras llenado\n",
    "print('Valores únicos en model:')\n",
    "print(df_auto['model'].value_counts(dropna=False, normalize=True))"
   ]
  },
  {
   "cell_type": "markdown",
   "id": "d618871d-a054-4615-b8a3-301cbcd2d4be",
   "metadata": {},
   "source": [
    "### Vehicle Type"
   ]
  },
  {
   "cell_type": "markdown",
   "id": "8aff7e9e-aada-403f-9428-80a957c5e342",
   "metadata": {},
   "source": [
    "Para esta variable, se realizará un filtrado del conjunto de datos excluyendo aquellos registros con valores ausentes en las columnas `'brand'` y `'model'`. A continuación, se construirá una tabla dinámica que calcule la moda para cada combinación. Los valores faltantes en estas variables serán imputados con la moda correspondiente. En los casos en que no sea posible determinar una moda, se asignará el valor 'unknown'."
   ]
  },
  {
   "cell_type": "code",
   "execution_count": 25,
   "id": "9f35fe49-52b2-41af-8322-0252151334f2",
   "metadata": {},
   "outputs": [],
   "source": [
    "# Filtrado de dataset sin valores ausentes en 'brand' y 'model', y creación de tabla dinámica que devuelva la moda \n",
    "vehicletype_without_nan = df_auto.dropna(subset=['vehicle_type', 'model'])\n",
    "vehicletype_model = vehicletype_without_nan.pivot_table(index=['brand','model'], values='vehicle_type', aggfunc=mode)\n",
    "\n",
    "# Función para llenado de valores faltantes\n",
    "def fill_vehicle_type(row):\n",
    "    \n",
    "    brand = row['brand']\n",
    "    model = row['model']\n",
    "    vehicle_type = row['vehicle_type']\n",
    "    \n",
    "    if pd.isna(vehicle_type):\n",
    "        try:\n",
    "            return vehicletype_model.loc[(brand, model), 'vehicle_type']\n",
    "        except:\n",
    "            return 'unknown'\n",
    "    return vehicle_type"
   ]
  },
  {
   "cell_type": "code",
   "execution_count": 26,
   "id": "cbb6a9fa-8ad5-4758-8e09-102dbe525ed3",
   "metadata": {},
   "outputs": [
    {
     "name": "stdout",
     "output_type": "stream",
     "text": [
      "0      small\n",
      "1    unknown\n",
      "dtype: object\n"
     ]
    }
   ],
   "source": [
    "# Comprobación de funcionamiento correcto\n",
    "row_values = [\n",
    "    ['alfa_romeo', '145', np.nan],\n",
    "    ['falso', 'modelo', np.nan]\n",
    "]\n",
    "row_columns = ['brand', 'model', 'vehicle_type']\n",
    "\n",
    "prueba_df = pd.DataFrame(data=row_values, columns=row_columns)\n",
    "\n",
    "prueba_df = prueba_df.apply(fill_vehicle_type, axis=1)\n",
    "print(prueba_df)"
   ]
  },
  {
   "cell_type": "code",
   "execution_count": 27,
   "id": "883d63e9-e006-472b-b728-5e4b85a4d97e",
   "metadata": {},
   "outputs": [
    {
     "name": "stdout",
     "output_type": "stream",
     "text": [
      "Observaciones cuyo tipo no pudo establecerse: 25\n"
     ]
    }
   ],
   "source": [
    "# Aplicación de la función al df\n",
    "df_auto['vehicle_type'] = df_auto.apply(fill_vehicle_type, axis = 1)\n",
    "\n",
    "# Conteo de observaciones cuyo tipo no pudo establecerse\n",
    "print('Observaciones cuyo tipo no pudo establecerse:', len(df_auto.loc[df_auto['vehicle_type'] == 'unknown']))"
   ]
  },
  {
   "cell_type": "code",
   "execution_count": 28,
   "id": "e7e7ffb7-28b3-4a9e-96f1-bfd3c7909933",
   "metadata": {},
   "outputs": [
    {
     "name": "stdout",
     "output_type": "stream",
     "text": [
      "Valores únicos en vehicle_type:\n",
      "vehicle_type\n",
      "sedan          0.305820\n",
      "small          0.256917\n",
      "wagon          0.195144\n",
      "bus            0.091444\n",
      "convertible    0.057782\n",
      "coupe          0.047497\n",
      "suv            0.035972\n",
      "other          0.009353\n",
      "unknown        0.000071\n",
      "Name: proportion, dtype: float64\n"
     ]
    }
   ],
   "source": [
    "# Análisis de distribución relativa tras llenado\n",
    "print('Valores únicos en vehicle_type:')\n",
    "print(df_auto['vehicle_type'].value_counts(dropna=False, normalize=True))"
   ]
  },
  {
   "cell_type": "markdown",
   "id": "bc505bc9-db71-4379-9e5d-557e578cd978",
   "metadata": {},
   "source": [
    "### Fuel Type"
   ]
  },
  {
   "cell_type": "markdown",
   "id": "bf8fb485-90d1-429a-9712-789cdd79fe92",
   "metadata": {},
   "source": [
    "Los términos \"petrol\" y \"gasoline\" se refieren al mismo tipo de combustible, diferenciándose únicamente por su uso geográfico: \"petrol\" se emplea en Reino Unido e India, mientras que \"gasoline\" es común en Estados Unidos. Por lo tanto, resulta adecuado unificarlos en una sola categoría, ya que no representan combustibles distintos, sino denominaciones diferentes para el mismo producto. "
   ]
  },
  {
   "cell_type": "code",
   "execution_count": 29,
   "id": "76d2741f-e4bc-4e64-b1e2-c7c59767716a",
   "metadata": {},
   "outputs": [
    {
     "data": {
      "text/plain": [
       "fuel_type\n",
       "gasoline    0.889050\n",
       "NaN         0.092879\n",
       "lpg         0.014987\n",
       "cng         0.001596\n",
       "hybrid      0.000658\n",
       "other       0.000576\n",
       "electric    0.000254\n",
       "Name: proportion, dtype: float64"
      ]
     },
     "execution_count": 29,
     "metadata": {},
     "output_type": "execute_result"
    }
   ],
   "source": [
    "# Reemplazo de 'petrol' por 'gasoline'\n",
    "df_auto['fuel_type'] = df_auto['fuel_type'].replace('petrol', 'gasoline')\n",
    "\n",
    "# Comprobación de la nueva distribución de los datos\n",
    "df_auto['fuel_type'].value_counts(dropna=False, normalize=True)"
   ]
  },
  {
   "cell_type": "markdown",
   "id": "e50d3270-adb2-4167-a1c7-ef682371ea2b",
   "metadata": {},
   "source": [
    "El rellenado se realizará a partir del modelo. Dado que existen modelos clasificados como 'unknown', cuyo tipo de combustible no puede inferirse con precisión, estos se asignarán directamente con el valor 'unknown'. Para el resto de los casos, se aplicará la función correspondiente para completar el dato."
   ]
  },
  {
   "cell_type": "code",
   "execution_count": 30,
   "id": "3c47d0b3-482d-4766-aa41-5bdf448816c1",
   "metadata": {},
   "outputs": [],
   "source": [
    "# Asignación de 'unknown' a observaciones cuyo 'fuel_type' y 'model' se desconocen\n",
    "df_auto.loc[(df_auto['fuel_type'].isna()) & (df_auto['model'] == 'unknown'), 'fuel_type'] = 'unknown'\n",
    "\n",
    "# Filtrado de dataset sin valores ausentes en 'fuel_type' y 'model', y creación de tabla dinámica que devuelva la moda \n",
    "fuel_without_nan = df_auto.dropna(subset=['fuel_type', 'model'])\n",
    "fuel_model = fuel_without_nan.pivot_table(index=['model'], values='fuel_type', aggfunc=mode)\n",
    "\n",
    "# Función para llenado de valores faltantes\n",
    "def fill_fuel_type(row):\n",
    "    \n",
    "    model = row['model']\n",
    "    fuel_type = row['fuel_type']\n",
    "    \n",
    "    if pd.isna(fuel_type):\n",
    "        try:\n",
    "            return fuel_model.loc[model, 'fuel_type']\n",
    "        except:\n",
    "            return 'unknown'\n",
    "    return fuel_type"
   ]
  },
  {
   "cell_type": "code",
   "execution_count": 31,
   "id": "5d953bd3-e9f1-4c59-a69d-f44dc5b7e4ae",
   "metadata": {},
   "outputs": [
    {
     "name": "stdout",
     "output_type": "stream",
     "text": [
      "0    gasoline\n",
      "1     unknown\n",
      "dtype: object\n"
     ]
    }
   ],
   "source": [
    "# Comprobación de funcionamiento correcto\n",
    "row_values = [\n",
    "    ['100', np.nan],\n",
    "    ['falso', np.nan]\n",
    "]\n",
    "row_columns = ['model', 'fuel_type']\n",
    "prueba_df = pd.DataFrame(data=row_values, columns=row_columns)\n",
    "prueba_df = prueba_df.apply(fill_fuel_type, axis=1)\n",
    "print(prueba_df)"
   ]
  },
  {
   "cell_type": "code",
   "execution_count": 32,
   "id": "daaa2921-6d07-4a85-8773-0744603bf946",
   "metadata": {},
   "outputs": [
    {
     "name": "stdout",
     "output_type": "stream",
     "text": [
      "Observaciones cuyo tipo no pudo establecerse: 1144\n"
     ]
    }
   ],
   "source": [
    "# Aplicación de la función al df\n",
    "df_auto['fuel_type'] = df_auto.apply(fill_fuel_type, axis = 1)\n",
    "\n",
    "# Conteo de observaciones cuyo tipo no pudo establecerse\n",
    "print('Observaciones cuyo tipo no pudo establecerse:', len(df_auto.loc[df_auto['fuel_type'] == 'unknown']))"
   ]
  },
  {
   "cell_type": "code",
   "execution_count": 33,
   "id": "f279684f-b53e-4233-b845-13b07843f426",
   "metadata": {},
   "outputs": [
    {
     "name": "stdout",
     "output_type": "stream",
     "text": [
      "Valores únicos en fuel_type:\n",
      "fuel_type\n",
      "gasoline    0.978699\n",
      "lpg         0.014987\n",
      "unknown     0.003231\n",
      "cng         0.001596\n",
      "hybrid      0.000658\n",
      "other       0.000576\n",
      "electric    0.000254\n",
      "Name: proportion, dtype: float64\n"
     ]
    }
   ],
   "source": [
    "# Análisis de distribución relativa tras llenado\n",
    "print('Valores únicos en fuel_type:')\n",
    "print(df_auto['fuel_type'].value_counts(dropna=False, normalize=True))"
   ]
  },
  {
   "cell_type": "markdown",
   "id": "66e62fc0-01f3-4b4f-afc1-b189182583a3",
   "metadata": {},
   "source": [
    "### Not Repaired"
   ]
  },
  {
   "cell_type": "markdown",
   "id": "386a510a-a521-4d62-8091-c76be1842131",
   "metadata": {},
   "source": [
    "La condición de reparación de un vehículo depende de la decisión individual de cada usuario, por lo que los valores faltantes en esta variable no pueden ser imputados a partir de otras características del conjunto de datos. Por esta razón, se desarrollará un modelo de machine learning que prediga el estado del vehículo considerando todas las variables disponibles. Para ello, se transformará la variable categórica en numérica mediante la creación de un diccionario que asigne 0 a \"no\" y 1 a \"yes\", aplicando posteriormente la función map para realizar esta sustitución."
   ]
  },
  {
   "cell_type": "code",
   "execution_count": 34,
   "id": "6b8da07f-def8-4b35-adce-ef35cc419808",
   "metadata": {},
   "outputs": [
    {
     "data": {
      "text/plain": [
       "not_repaired\n",
       "0.0    0.697323\n",
       "NaN    0.200914\n",
       "1.0    0.101763\n",
       "Name: proportion, dtype: float64"
      ]
     },
     "execution_count": 34,
     "metadata": {},
     "output_type": "execute_result"
    }
   ],
   "source": [
    "# Codificación en equivalencia binaria\n",
    "not_repaired_dict = {'no': 0, 'yes': 1}\n",
    "df_auto['not_repaired'] = df_auto['not_repaired'].map(not_repaired_dict)\n",
    "\n",
    "# Comprobación de cambios\n",
    "df_auto['not_repaired'].value_counts(dropna=False, normalize=True)"
   ]
  },
  {
   "cell_type": "markdown",
   "id": "a4e09100-c177-47d2-9a38-89d58696f3df",
   "metadata": {},
   "source": [
    "Se construirá un modelo de regresión logística para predecir si un vehículo ha sido reparado, utilizando dichas predicciones para imputar los valores ausentes. Para ello, se utilizará LabelEncoder para las variables con alta cardinalidad, mientras que las se baja cardinalidad serán codificadas mediante One-Hot Encoding."
   ]
  },
  {
   "cell_type": "code",
   "execution_count": 35,
   "id": "6b4441b4-6653-4c1b-8738-c7093108e17f",
   "metadata": {},
   "outputs": [
    {
     "data": {
      "text/html": [
       "<div>\n",
       "<style scoped>\n",
       "    .dataframe tbody tr th:only-of-type {\n",
       "        vertical-align: middle;\n",
       "    }\n",
       "\n",
       "    .dataframe tbody tr th {\n",
       "        vertical-align: top;\n",
       "    }\n",
       "\n",
       "    .dataframe thead th {\n",
       "        text-align: right;\n",
       "    }\n",
       "</style>\n",
       "<table border=\"1\" class=\"dataframe\">\n",
       "  <thead>\n",
       "    <tr style=\"text-align: right;\">\n",
       "      <th></th>\n",
       "      <th>price</th>\n",
       "      <th>registration_year</th>\n",
       "      <th>power</th>\n",
       "      <th>mileage</th>\n",
       "      <th>not_repaired</th>\n",
       "      <th>model_encoded</th>\n",
       "      <th>brand_encoded</th>\n",
       "      <th>vehicle_type_bus</th>\n",
       "      <th>vehicle_type_convertible</th>\n",
       "      <th>vehicle_type_coupe</th>\n",
       "      <th>...</th>\n",
       "      <th>gearbox_auto</th>\n",
       "      <th>gearbox_manual</th>\n",
       "      <th>gearbox_unknown</th>\n",
       "      <th>fuel_type_cng</th>\n",
       "      <th>fuel_type_electric</th>\n",
       "      <th>fuel_type_gasoline</th>\n",
       "      <th>fuel_type_hybrid</th>\n",
       "      <th>fuel_type_lpg</th>\n",
       "      <th>fuel_type_other</th>\n",
       "      <th>fuel_type_unknown</th>\n",
       "    </tr>\n",
       "  </thead>\n",
       "  <tbody>\n",
       "    <tr>\n",
       "      <th>0</th>\n",
       "      <td>480</td>\n",
       "      <td>1993</td>\n",
       "      <td>0</td>\n",
       "      <td>150000</td>\n",
       "      <td>NaN</td>\n",
       "      <td>116</td>\n",
       "      <td>38</td>\n",
       "      <td>0</td>\n",
       "      <td>0</td>\n",
       "      <td>0</td>\n",
       "      <td>...</td>\n",
       "      <td>0</td>\n",
       "      <td>1</td>\n",
       "      <td>0</td>\n",
       "      <td>0</td>\n",
       "      <td>0</td>\n",
       "      <td>1</td>\n",
       "      <td>0</td>\n",
       "      <td>0</td>\n",
       "      <td>0</td>\n",
       "      <td>0</td>\n",
       "    </tr>\n",
       "    <tr>\n",
       "      <th>1</th>\n",
       "      <td>18300</td>\n",
       "      <td>2011</td>\n",
       "      <td>190</td>\n",
       "      <td>125000</td>\n",
       "      <td>1.0</td>\n",
       "      <td>29</td>\n",
       "      <td>1</td>\n",
       "      <td>0</td>\n",
       "      <td>0</td>\n",
       "      <td>1</td>\n",
       "      <td>...</td>\n",
       "      <td>0</td>\n",
       "      <td>1</td>\n",
       "      <td>0</td>\n",
       "      <td>0</td>\n",
       "      <td>0</td>\n",
       "      <td>1</td>\n",
       "      <td>0</td>\n",
       "      <td>0</td>\n",
       "      <td>0</td>\n",
       "      <td>0</td>\n",
       "    </tr>\n",
       "    <tr>\n",
       "      <th>2</th>\n",
       "      <td>9800</td>\n",
       "      <td>2004</td>\n",
       "      <td>163</td>\n",
       "      <td>125000</td>\n",
       "      <td>NaN</td>\n",
       "      <td>117</td>\n",
       "      <td>14</td>\n",
       "      <td>0</td>\n",
       "      <td>0</td>\n",
       "      <td>0</td>\n",
       "      <td>...</td>\n",
       "      <td>1</td>\n",
       "      <td>0</td>\n",
       "      <td>0</td>\n",
       "      <td>0</td>\n",
       "      <td>0</td>\n",
       "      <td>1</td>\n",
       "      <td>0</td>\n",
       "      <td>0</td>\n",
       "      <td>0</td>\n",
       "      <td>0</td>\n",
       "    </tr>\n",
       "  </tbody>\n",
       "</table>\n",
       "<p>3 rows × 26 columns</p>\n",
       "</div>"
      ],
      "text/plain": [
       "   price  registration_year  power  mileage  not_repaired  model_encoded  \\\n",
       "0    480               1993      0   150000           NaN            116   \n",
       "1  18300               2011    190   125000           1.0             29   \n",
       "2   9800               2004    163   125000           NaN            117   \n",
       "\n",
       "   brand_encoded  vehicle_type_bus  vehicle_type_convertible  \\\n",
       "0             38                 0                         0   \n",
       "1              1                 0                         0   \n",
       "2             14                 0                         0   \n",
       "\n",
       "   vehicle_type_coupe  ...  gearbox_auto  gearbox_manual  gearbox_unknown  \\\n",
       "0                   0  ...             0               1                0   \n",
       "1                   1  ...             0               1                0   \n",
       "2                   0  ...             1               0                0   \n",
       "\n",
       "   fuel_type_cng  fuel_type_electric  fuel_type_gasoline  fuel_type_hybrid  \\\n",
       "0              0                   0                   1                 0   \n",
       "1              0                   0                   1                 0   \n",
       "2              0                   0                   1                 0   \n",
       "\n",
       "   fuel_type_lpg  fuel_type_other  fuel_type_unknown  \n",
       "0              0                0                  0  \n",
       "1              0                0                  0  \n",
       "2              0                0                  0  \n",
       "\n",
       "[3 rows x 26 columns]"
      ]
     },
     "metadata": {},
     "output_type": "display_data"
    }
   ],
   "source": [
    "# Codificación para resultados óptimos\n",
    "df_coded = df_auto.copy()\n",
    "\n",
    "# LabelEncoder para características con alta cardinalidad\n",
    "le = LabelEncoder()\n",
    "df_coded['model_encoded'] = le.fit_transform(df_coded['model'])\n",
    "df_coded['brand_encoded'] = le.fit_transform(df_coded['brand'])\n",
    "df_coded.drop(columns=['model', 'brand'], inplace=True)\n",
    "\n",
    "# OHE para características con baja cardinalidad\n",
    "df_coded = pd.get_dummies(df_coded, columns=['vehicle_type', 'gearbox', 'fuel_type'], dtype=int)\n",
    "display(df_coded.head(3))"
   ]
  },
  {
   "cell_type": "markdown",
   "id": "ec93636c-1a40-40cf-ad39-bb625128620d",
   "metadata": {},
   "source": [
    "Se procede al entrenamiento del modelo de regresión logística."
   ]
  },
  {
   "cell_type": "code",
   "execution_count": 36,
   "id": "363d2781-8a91-4d89-8e40-148449acdcd3",
   "metadata": {},
   "outputs": [],
   "source": [
    "# Creación de dos conjuntos: datos sin valores ausentes y con valores ausentes \n",
    "nan_df_coded = df_coded[df_coded['not_repaired'].isna()]\n",
    "no_nan_df_coded = df_coded[~df_coded['not_repaired'].isna()]\n",
    "\n",
    "# Construcción de modelo de regresión lineal \n",
    "lr_nan = LogisticRegression(random_state=12345, solver='liblinear')\n",
    "lr_nan.fit(no_nan_df_coded.drop(columns=['not_repaired']), \n",
    "           no_nan_df_coded['not_repaired'])\n",
    "\n",
    "# Reemplazo de valores ausentes con las predicciones realizadas\n",
    "df_auto['not_repaired'].fillna(pd.Series\n",
    "                          (lr_nan.predict(nan_df_coded.drop(columns=['not_repaired'])), \n",
    "                           index=nan_df_coded.index),\n",
    "                          inplace=True)\n",
    "df_auto['not_repaired'] = df_auto['not_repaired'].astype('int')"
   ]
  },
  {
   "cell_type": "code",
   "execution_count": 37,
   "id": "3c99908c-2397-4000-9a52-c5514470424e",
   "metadata": {},
   "outputs": [
    {
     "name": "stdout",
     "output_type": "stream",
     "text": [
      "Valores únicos en not_repaired:\n",
      "not_repaired\n",
      "0    0.898186\n",
      "1    0.101814\n",
      "Name: proportion, dtype: float64\n"
     ]
    }
   ],
   "source": [
    "# Análisis de distribución relativa tras llenado\n",
    "print('Valores únicos en not_repaired:')\n",
    "print(df_auto['not_repaired'].value_counts(dropna=False, normalize=True))"
   ]
  },
  {
   "cell_type": "markdown",
   "id": "7be8308a-0c22-47d8-be95-1ffb4a89eb99",
   "metadata": {},
   "source": [
    "## Valores atípicos en variables numéricas"
   ]
  },
  {
   "cell_type": "markdown",
   "id": "add78735-4b5c-40aa-81c0-9aeeb5cd7fba",
   "metadata": {},
   "source": [
    "Durante la exploración inicial del conjunto de datos, se identificaron valores atípicos en las columnas `price`, `registration_year`, `power` y `registration_month`. Se procederá a analizar estos valores para determinar el tratamiento adecuado. Para facilitar la visualización de valores atípicos e inconsistencias, se implementará una función denominada boxplot_function que generará diagramas de caja para cada variable relevante."
   ]
  },
  {
   "cell_type": "code",
   "execution_count": 38,
   "id": "bd87ea02-9a47-421e-adb2-1d484d790ff8",
   "metadata": {},
   "outputs": [],
   "source": [
    "# Función para creación de diagramas de caja de categorías numéricas\n",
    "def boxplot_function(df, column, ylim=(0,0)):\n",
    "    Q1= df[column].quantile(0.25)\n",
    "    Q3= df[column].quantile(0.75)\n",
    "    IQR = Q3 - Q1\n",
    "\n",
    "    df.boxplot(column=column, figsize=(5,4))\n",
    "    plt.ylim(ylim)\n",
    "    plt.hlines(y=[(Q1-1.5*IQR),(Q3+1.5*IQR)], xmin=0.9, xmax=1.1, color='red')\n",
    "    plt.title('Diagrama de caja con valores atípicos', fontsize=10)  #\n",
    "    plt.show()\n",
    "    return df[column].describe()"
   ]
  },
  {
   "cell_type": "markdown",
   "id": "169fb937-a263-41da-9133-c434d3b7db64",
   "metadata": {},
   "source": [
    "### Registration Year"
   ]
  },
  {
   "cell_type": "code",
   "execution_count": 39,
   "id": "dd30bd89-74f3-4e99-bc36-4da30c9d55b9",
   "metadata": {},
   "outputs": [
    {
     "data": {
      "image/png": "[encoded data removed]",
      "text/plain": [
       "<Figure size 500x400 with 1 Axes>"
      ]
     },
     "metadata": {},
     "output_type": "display_data"
    },
    {
     "data": {
      "text/plain": [
       "count    354107.000000\n",
       "mean       2004.235355\n",
       "std          90.261168\n",
       "min        1000.000000\n",
       "25%        1999.000000\n",
       "50%        2003.000000\n",
       "75%        2008.000000\n",
       "max        9999.000000\n",
       "Name: registration_year, dtype: float64"
      ]
     },
     "execution_count": 39,
     "metadata": {},
     "output_type": "execute_result"
    }
   ],
   "source": [
    "# Diagrama de caja para 'registration_year'\n",
    "boxplot_function(df_auto, 'registration_year', (1900, 2100))"
   ]
  },
  {
   "cell_type": "code",
   "execution_count": 40,
   "id": "161ff89a-5fa2-4b8f-8102-7bf8ef5d3495",
   "metadata": {},
   "outputs": [
    {
     "name": "stdout",
     "output_type": "stream",
     "text": [
      "Extremo inferior: 1985.5 \n",
      "\n",
      "Porcentaje de años <= 1900: 0.02%\n",
      "Porcentaje de años <= 1910: 0.05%\n",
      "Porcentaje de años <= 1920: 0.05%\n",
      "Porcentaje de años <= 1930: 0.05%\n",
      "Porcentaje de años <= 1940: 0.06%\n",
      "Porcentaje de años <= 1950: 0.07%\n",
      "Porcentaje de años <= 1960: 0.17%\n",
      "Porcentaje de años <= 1970: 0.47%\n",
      "Porcentaje de años <= 1980: 1.14%\n",
      "Porcentaje de años <= 1990: 3.52%\n",
      "Porcentaje de años <= 2000: 35.77%\n"
     ]
    }
   ],
   "source": [
    "# Cálculo de límite inferior\n",
    "Q1 = df_auto['registration_year'].quantile(0.25)\n",
    "Q3 = df_auto['registration_year'].quantile(0.75)\n",
    "IQR = Q3 - Q1\n",
    "lower_bound = Q1 - 1.5 * IQR\n",
    "print('Extremo inferior:', lower_bound, '\\n')\n",
    "\n",
    "total_count = len(df_auto['registration_year'])\n",
    "\n",
    "for threshold in range(1900, 2001, 10):\n",
    "    count_leq = (df_auto['registration_year'] <= threshold).sum()\n",
    "    percentage = (count_leq / total_count) * 100\n",
    "    print(f\"Porcentaje de años <= {threshold}: {percentage:.2f}%\")"
   ]
  },
  {
   "cell_type": "markdown",
   "id": "65fdcd47-a6ac-457b-ac29-b00050af4cbb",
   "metadata": {},
   "source": [
    "Considerando que el automóvil fue inventado en 1886 y que los datos disponibles abarcan hasta 2016, se seleccionarán únicamente los registros comprendidos entre 1970 y 2016. Aunque el límite inferior real de los datos es 1985, extender el corte hasta 1970 implica la eliminación de solo el 0.47% del total. Dado que no es posible imputar o predecir el año de matriculación a partir de otras variables, se procederá a filtrar el conjunto de datos con base en este rango temporal."
   ]
  },
  {
   "cell_type": "code",
   "execution_count": 41,
   "id": "a522d298-fdd5-4eab-8b5d-940bc7765abe",
   "metadata": {},
   "outputs": [
    {
     "data": {
      "text/plain": [
       "count    338241.000000\n",
       "mean       2002.651858\n",
       "std           6.465100\n",
       "min        1970.000000\n",
       "25%        1999.000000\n",
       "50%        2003.000000\n",
       "75%        2007.000000\n",
       "max        2016.000000\n",
       "Name: registration_year, dtype: float64"
      ]
     },
     "execution_count": 41,
     "metadata": {},
     "output_type": "execute_result"
    }
   ],
   "source": [
    "# Filtrado del dataset\n",
    "df_filtered = df_auto.query('1970 <= registration_year <= 2016')\n",
    "\n",
    "# Comprobación de cambios \n",
    "df_filtered['registration_year'].describe()"
   ]
  },
  {
   "cell_type": "code",
   "execution_count": 42,
   "id": "0dbe46ff-35e7-4ea1-bf13-5fed98168ea2",
   "metadata": {},
   "outputs": [
    {
     "name": "stdout",
     "output_type": "stream",
     "text": [
      "Número de observaciones eliminadas: 15866\n"
     ]
    }
   ],
   "source": [
    "# Conteo de observaciones eliminadas\n",
    "print(f'Número de observaciones eliminadas: {(len(df) - len(df_filtered))}')"
   ]
  },
  {
   "cell_type": "markdown",
   "id": "b14bdf77-8edb-416e-a884-cdc550aa86e0",
   "metadata": {},
   "source": [
    "### Price"
   ]
  },
  {
   "cell_type": "markdown",
   "id": "9b70c846-17de-4b33-b07e-b97c4a2c6853",
   "metadata": {},
   "source": [
    "Se registraron valores cero en la columna de precio de venta del vehículo, lo cual corresponde a vendedores que prefieren que el comprador los contacte directamente al no especificar un precio. Para evaluar la distribución de los datos y tomar una decisión informada, se aplicará la función boxplot_function sobre la columna de precios."
   ]
  },
  {
   "cell_type": "code",
   "execution_count": 43,
   "id": "230c9b0c-5ab8-408b-a360-e21afd917028",
   "metadata": {},
   "outputs": [
    {
     "data": {
      "image/png": "[encoded data removed]",
      "text/plain": [
       "<Figure size 500x400 with 1 Axes>"
      ]
     },
     "metadata": {},
     "output_type": "display_data"
    },
    {
     "data": {
      "text/plain": [
       "count    338241.000000\n",
       "mean       4461.547784\n",
       "std        4536.620100\n",
       "min           0.000000\n",
       "25%        1099.000000\n",
       "50%        2799.000000\n",
       "75%        6500.000000\n",
       "max       20000.000000\n",
       "Name: price, dtype: float64"
      ]
     },
     "execution_count": 43,
     "metadata": {},
     "output_type": "execute_result"
    }
   ],
   "source": [
    "# Diagrama de caja para 'price'\n",
    "boxplot_function(df_filtered, 'price', (-1000, 20000))"
   ]
  },
  {
   "cell_type": "code",
   "execution_count": 44,
   "id": "d85fdbf8-08c2-4a14-bd27-64cd7d1aa6f3",
   "metadata": {},
   "outputs": [
    {
     "name": "stdout",
     "output_type": "stream",
     "text": [
      "Porcentaje de precios <= 100: 3.92%\n",
      "Porcentaje de precios <= 200: 5.39%\n",
      "Porcentaje de precios <= 300: 7.24%\n",
      "Porcentaje de precios <= 400: 9.11%\n",
      "Porcentaje de precios <= 500: 11.74%\n",
      "Porcentaje de precios <= 600: 14.11%\n",
      "Porcentaje de precios <= 700: 16.40%\n",
      "Porcentaje de precios <= 800: 18.94%\n",
      "Porcentaje de precios <= 900: 21.13%\n",
      "Porcentaje de precios <= 1000: 24.65%\n",
      "Porcentaje de precios <= 1100: 25.79%\n"
     ]
    }
   ],
   "source": [
    "# Cálculo del porcentaje de datos por umbrales de precios\n",
    "total_count = len(df_filtered['price'])\n",
    "\n",
    "for threshold in range(100, 1101, 100):\n",
    "    count_leq = (df_filtered['price'] <= threshold).sum()\n",
    "    percentage = (count_leq / total_count) * 100\n",
    "    print(f\"Porcentaje de precios <= {threshold}: {percentage:.2f}%\")"
   ]
  },
  {
   "cell_type": "markdown",
   "id": "5d953050-0c5c-46e3-9e04-f2ce78ab87e2",
   "metadata": {},
   "source": [
    "El diagrama de cajas muestra una asimetría positiva, atribuible al elevado número de valores cercanos a cero en el conjunto de datos. Para mejorar la calidad del modelo predictivo, se eliminarán los vehículos con precios inferiores o iguales a $100 (3.92%), ya que estos representan valores atípicos que podrían distorsionar el entrenamiento."
   ]
  },
  {
   "cell_type": "code",
   "execution_count": 45,
   "id": "a71ada88-54f4-42a2-b0ab-af097a6e20bd",
   "metadata": {},
   "outputs": [
    {
     "data": {
      "text/plain": [
       "count    325995.000000\n",
       "mean       4628.932640\n",
       "std        4536.536986\n",
       "min         100.000000\n",
       "25%        1200.000000\n",
       "50%        2950.000000\n",
       "75%        6666.000000\n",
       "max       20000.000000\n",
       "Name: price, dtype: float64"
      ]
     },
     "execution_count": 45,
     "metadata": {},
     "output_type": "execute_result"
    }
   ],
   "source": [
    "# Filtrado del dataset\n",
    "df_filtered = df_filtered.query('100 <= price')\n",
    "\n",
    "# Comprobación de cambios \n",
    "df_filtered['price'].describe() "
   ]
  },
  {
   "cell_type": "code",
   "execution_count": 46,
   "id": "8f66a172-4be7-4c87-9bf0-72448a626205",
   "metadata": {},
   "outputs": [
    {
     "name": "stdout",
     "output_type": "stream",
     "text": [
      "Número de observaciones eliminadas: 28112\n"
     ]
    }
   ],
   "source": [
    "# Conteo de observaciones eliminadas\n",
    "print(f'Número de observaciones eliminadas: {(len(df) - len(df_filtered))}')"
   ]
  },
  {
   "cell_type": "markdown",
   "id": "f8c40edc-b66a-4809-ae0b-ce7a268abf44",
   "metadata": {},
   "source": [
    "### Power"
   ]
  },
  {
   "cell_type": "markdown",
   "id": "b0c9679d-d6b7-4a69-9f51-288fd799bc7d",
   "metadata": {},
   "source": [
    "Se analizaron los valores atípicos en la columna `power`, donde se registró un valor máximo de 20,000 HP y valores mínimos de 0 HP, cifras atípicas para la potencia en caballos de fuerza de vehículos. Para ello, se aplicó la función boxplot_function sobre dicha columna."
   ]
  },
  {
   "cell_type": "code",
   "execution_count": 47,
   "id": "cc900e5e-702a-4d51-8699-876663d7db6e",
   "metadata": {},
   "outputs": [
    {
     "data": {
      "image/png": "[encoded data removed]",
      "text/plain": [
       "<Figure size 500x400 with 1 Axes>"
      ]
     },
     "metadata": {},
     "output_type": "display_data"
    },
    {
     "data": {
      "text/plain": [
       "count    354107.000000\n",
       "mean        110.089651\n",
       "std         189.914972\n",
       "min           0.000000\n",
       "25%          69.000000\n",
       "50%         105.000000\n",
       "75%         143.000000\n",
       "max       20000.000000\n",
       "Name: power, dtype: float64"
      ]
     },
     "execution_count": 47,
     "metadata": {},
     "output_type": "execute_result"
    }
   ],
   "source": [
    "# Diagrama de caja para 'power'\n",
    "boxplot_function(df, 'power', (-200, 3000))"
   ]
  },
  {
   "cell_type": "markdown",
   "id": "d751c40e-c509-42f4-b842-66cbfbdf2f8d",
   "metadata": {},
   "source": [
    "Al analizar el diagrama de cajas, se identifican valores atípicos cercanos a cero y por encima de 3,000 HP, considerando que la potencia mínima esperada para un vehículo es de 60 HP y la máxima alrededor de 1,800 HP. Se procederá a reemplazar con NaN todos los valores de potencia inferiores a 60 HP para su posterior análisis y posible imputación basada en otras variables. Por otro lado, se eliminarán los valores superiores a 2,000 HP, ya que representan valores extremos que podrían distorsionar el análisis."
   ]
  },
  {
   "cell_type": "code",
   "execution_count": 48,
   "id": "64578c8a-056c-433c-adbf-94be99f9689b",
   "metadata": {},
   "outputs": [
    {
     "data": {
      "text/plain": [
       "count    289498.000000\n",
       "mean        123.003437\n",
       "std          62.679608\n",
       "min          50.000000\n",
       "25%          80.000000\n",
       "50%         115.000000\n",
       "75%         150.000000\n",
       "max        2000.000000\n",
       "Name: power, dtype: float64"
      ]
     },
     "execution_count": 48,
     "metadata": {},
     "output_type": "execute_result"
    }
   ],
   "source": [
    "# Filtrado del dataset\n",
    "df_filtered = df_filtered.query('power <= 2000')\n",
    "\n",
    "# Conversión de valores atípicos a Nan\n",
    "df_filtered.loc[df_filtered['power'] < 50, 'power'] = np.nan\n",
    "\n",
    "# Comprobación de cambios\n",
    "df_filtered['power'].describe() "
   ]
  },
  {
   "cell_type": "code",
   "execution_count": 49,
   "id": "68655aa4-3469-49a2-a348-ddc1ec5c6c45",
   "metadata": {},
   "outputs": [
    {
     "name": "stdout",
     "output_type": "stream",
     "text": [
      "Porcentaje de valores atípicos reemplazados por NaN: 11.17%\n",
      "Número de observaciones eliminadas: 28212\n"
     ]
    }
   ],
   "source": [
    "# Conteo de valores atípicos y observaciones eliminadas\n",
    "nan_power = df_filtered[df_filtered['power'].isna()]\n",
    "\n",
    "print(f'Porcentaje de valores atípicos reemplazados por NaN: {(nan_power.shape[0] / len(df_filtered)) * 100:.2f}%')\n",
    "print(f'Número de observaciones eliminadas: {(len(df) - len(df_filtered))}')"
   ]
  },
  {
   "cell_type": "markdown",
   "id": "262b9631-5829-43db-9604-f96b6ba9eb91",
   "metadata": {},
   "source": [
    "Se observa un alto porcentaje de valores extraños reemplazados por valores NaN; por tanto, se procederá a imputarlos según el modelo de vehículo."
   ]
  },
  {
   "cell_type": "code",
   "execution_count": 50,
   "id": "0492f713-cda2-4c70-a517-e09078118134",
   "metadata": {},
   "outputs": [],
   "source": [
    "# Filtrado de dataset sin valores ausentes en 'model' y 'pwoer', y creación de tabla dinámica que devuelva la mediana \n",
    "power_no_missing_values = df_filtered.dropna(subset=['power'])\n",
    "power_model = power_no_missing_values.pivot_table(index=['model'], values='power', aggfunc='median')\n",
    "\n",
    "# Función para llenado de valores faltantes\n",
    "def fill_power(row):\n",
    "    \n",
    "    model = row['model']\n",
    "    power = row['power']\n",
    "    \n",
    "    if pd.isna(power):\n",
    "        try:\n",
    "            return power_model.loc[model, 'power']\n",
    "        except:\n",
    "            return 'Error'\n",
    "    return power"
   ]
  },
  {
   "cell_type": "code",
   "execution_count": 51,
   "id": "1bab1531-18ab-446d-a222-d13ac55be656",
   "metadata": {},
   "outputs": [
    {
     "name": "stdout",
     "output_type": "stream",
     "text": [
      "0    133.0\n",
      "1    Error\n",
      "dtype: object\n"
     ]
    }
   ],
   "source": [
    "# Comprobación de funcionamiento correcto\n",
    "row_values = [\n",
    "    ['100', np.nan],\n",
    "    ['falso', np.nan]\n",
    "]\n",
    "row_columns = ['model', 'power']\n",
    "prueba_df = pd.DataFrame(data=row_values, columns=row_columns)\n",
    "prueba_df = prueba_df.apply(fill_power, axis=1)\n",
    "print(prueba_df)"
   ]
  },
  {
   "cell_type": "code",
   "execution_count": 52,
   "id": "11f8b69a-cb09-4db5-9762-4bb925b09ec6",
   "metadata": {},
   "outputs": [
    {
     "data": {
      "text/html": [
       "<div>\n",
       "<style scoped>\n",
       "    .dataframe tbody tr th:only-of-type {\n",
       "        vertical-align: middle;\n",
       "    }\n",
       "\n",
       "    .dataframe tbody tr th {\n",
       "        vertical-align: top;\n",
       "    }\n",
       "\n",
       "    .dataframe thead th {\n",
       "        text-align: right;\n",
       "    }\n",
       "</style>\n",
       "<table border=\"1\" class=\"dataframe\">\n",
       "  <thead>\n",
       "    <tr style=\"text-align: right;\">\n",
       "      <th></th>\n",
       "      <th>price</th>\n",
       "      <th>vehicle_type</th>\n",
       "      <th>registration_year</th>\n",
       "      <th>gearbox</th>\n",
       "      <th>power</th>\n",
       "      <th>model</th>\n",
       "      <th>mileage</th>\n",
       "      <th>fuel_type</th>\n",
       "      <th>brand</th>\n",
       "      <th>not_repaired</th>\n",
       "    </tr>\n",
       "  </thead>\n",
       "  <tbody>\n",
       "    <tr>\n",
       "      <th>234175</th>\n",
       "      <td>3800</td>\n",
       "      <td>wagon</td>\n",
       "      <td>1978</td>\n",
       "      <td>manual</td>\n",
       "      <td>Error</td>\n",
       "      <td>serie_1</td>\n",
       "      <td>30000</td>\n",
       "      <td>gasoline</td>\n",
       "      <td>land_rover</td>\n",
       "      <td>0</td>\n",
       "    </tr>\n",
       "  </tbody>\n",
       "</table>\n",
       "</div>"
      ],
      "text/plain": [
       "        price vehicle_type  registration_year gearbox  power    model  \\\n",
       "234175   3800        wagon               1978  manual  Error  serie_1   \n",
       "\n",
       "        mileage fuel_type       brand  not_repaired  \n",
       "234175    30000  gasoline  land_rover             0  "
      ]
     },
     "execution_count": 52,
     "metadata": {},
     "output_type": "execute_result"
    }
   ],
   "source": [
    "# Aplicación de la función\n",
    "df_filtered['power'] = df_filtered.apply(fill_power, axis = 1)\n",
    "\n",
    "# Comprobación de errores\n",
    "df_filtered[df_filtered['power'] == 'Error']"
   ]
  },
  {
   "cell_type": "markdown",
   "id": "94f250e2-4d3a-48f9-944a-1b8c7ad964b8",
   "metadata": {},
   "source": [
    "Uno de los valores de potencia presenta un dato faltante correspondiente al vehículo Land Rover serie 1. La potencia de este modelo es de 50 NP, por lo que se procederá a reemplazar el valor NaN con esta información verificada."
   ]
  },
  {
   "cell_type": "code",
   "execution_count": 53,
   "id": "064bebda-836a-4ff2-82e4-c8b8189cfdd2",
   "metadata": {},
   "outputs": [
    {
     "name": "stdout",
     "output_type": "stream",
     "text": [
      "Número de errores en power: 0 \n",
      "\n",
      "count    325895.000000\n",
      "mean        120.831044\n",
      "std          60.830407\n",
      "min          50.000000\n",
      "25%          75.000000\n",
      "50%         110.000000\n",
      "75%         147.000000\n",
      "max        2000.000000\n",
      "Name: power, dtype: float64\n"
     ]
    }
   ],
   "source": [
    "# Reemplazo y conversión de valores\n",
    "df_filtered.loc[df_filtered['power'] == 'Error', 'power'] = 50\n",
    "df_filtered['power'] = df_filtered['power'].astype('int')\n",
    "\n",
    "# Comprobamos los resultados\n",
    "print('Número de errores en power:', len(df_filtered[df_filtered['power'] == 'Error']), '\\n')\n",
    "print(df_filtered['power'].describe())"
   ]
  },
  {
   "cell_type": "markdown",
   "id": "7cf2574f-5617-497a-95ab-c2941a6fdd59",
   "metadata": {},
   "source": [
    "### Mileage"
   ]
  },
  {
   "cell_type": "code",
   "execution_count": 54,
   "id": "68765236-4b40-4465-af5b-f8cdb5912e88",
   "metadata": {},
   "outputs": [
    {
     "data": {
      "image/png": "[encoded data removed]",
      "text/plain": [
       "<Figure size 500x400 with 1 Axes>"
      ]
     },
     "metadata": {},
     "output_type": "display_data"
    },
    {
     "data": {
      "text/plain": [
       "count    354107.000000\n",
       "mean     128211.811684\n",
       "std       37906.590101\n",
       "min        5000.000000\n",
       "25%      125000.000000\n",
       "50%      150000.000000\n",
       "75%      150000.000000\n",
       "max      150000.000000\n",
       "Name: mileage, dtype: float64"
      ]
     },
     "execution_count": 54,
     "metadata": {},
     "output_type": "execute_result"
    }
   ],
   "source": [
    "# Diagrama de caja para 'mileage'\n",
    "boxplot_function(df, 'mileage', (0, 150000))"
   ]
  },
  {
   "cell_type": "markdown",
   "id": "39973b9e-2cc2-48fc-9932-901896fe5bd4",
   "metadata": {},
   "source": [
    "En relación con la variable 'mileage', se observa que los usuarios no proporcionan valores exactos, sino rangos aproximados; por ello, la variable no es continua, sino discreta."
   ]
  },
  {
   "cell_type": "code",
   "execution_count": 55,
   "id": "50a29443-5059-4a68-a877-6d45f77ff636",
   "metadata": {},
   "outputs": [
    {
     "name": "stdout",
     "output_type": "stream",
     "text": [
      "mileage\n",
      "5000        4284\n",
      "10000       1011\n",
      "20000       3606\n",
      "30000       4146\n",
      "40000       4708\n",
      "50000       5904\n",
      "60000       7132\n",
      "70000       8177\n",
      "80000       9513\n",
      "90000      10929\n",
      "100000     13755\n",
      "125000     34174\n",
      "150000    218556\n",
      "Name: count, dtype: int64\n"
     ]
    }
   ],
   "source": [
    "# Conteo de frecuencias de valores\n",
    "mileage_counts = df_filtered['mileage'].value_counts().sort_index()\n",
    "print(mileage_counts)"
   ]
  },
  {
   "cell_type": "code",
   "execution_count": 56,
   "id": "9f09204f-3758-4024-b97e-2cd1c0a6de47",
   "metadata": {},
   "outputs": [
    {
     "data": {
      "image/png": "[encoded data removed]",
      "text/plain": [
       "<Figure size 600x400 with 1 Axes>"
      ]
     },
     "metadata": {},
     "output_type": "display_data"
    }
   ],
   "source": [
    "# Visualización de conteo de 'mileage'\n",
    "mileage_counts.plot(kind='bar', figsize=(6, 4))\n",
    "\n",
    "plt.xlabel('Mileage')\n",
    "plt.ylabel('conteo')\n",
    "plt.title(\"Valores de 'mileage'\")\n",
    "plt.show()"
   ]
  },
  {
   "cell_type": "markdown",
   "id": "492b7ac5-f55f-4870-89c6-60511f8c984e",
   "metadata": {},
   "source": [
    "Aunque los valores inferiores a 100,000 se identifican como atípicos en el análisis, es posible que representen casos reales de vehículos con bajo uso. Por esta razón, se decidió conservar estos datos para mantener la integridad y representatividad del conjunto analizado, ya que podrían aportar información relevante sobre patrones de utilización poco frecuentes."
   ]
  },
  {
   "cell_type": "markdown",
   "id": "00859b4d-a522-446c-82a2-bbf5065bdde1",
   "metadata": {},
   "source": [
    "## Observaciones con valores desconocidos"
   ]
  },
  {
   "cell_type": "markdown",
   "id": "0084654e-294d-47ba-8a70-21c223be9177",
   "metadata": {},
   "source": [
    "Al completar las variables mediante distintos métodos, se identificaron casos en los que no fue posible asignar un valor adecuado, por lo que se etiquetaron como 'unknown'. Estos registros generan categorías artificiales que pueden introducir ruido y sesgar el modelo predictivo. Por esta razón, se optará por eliminar dichos casos para preservar la calidad y la integridad del análisis. "
   ]
  },
  {
   "cell_type": "code",
   "execution_count": 57,
   "id": "c64bb531-8f81-4174-ba07-0f9e553c606e",
   "metadata": {},
   "outputs": [
    {
     "name": "stdout",
     "output_type": "stream",
     "text": [
      "Observaciones con al menos un valor 'unknown': 6421 , 0.02%\n"
     ]
    }
   ],
   "source": [
    "# Búsqueda de observaciones con valores 'unknown'\n",
    "rows_with_unknown = df_auto[df_auto.astype(str).apply(lambda col: col.str.contains('unknown', case=False)).any(axis=1)]\n",
    "pctg = len(rows_with_unknown)/len(df_auto)\n",
    "print(\"Observaciones con al menos un valor 'unknown':\", len(rows_with_unknown), f\", {pctg:.2f}%\")"
   ]
  },
  {
   "cell_type": "code",
   "execution_count": 58,
   "id": "15fd1809-ff7d-4452-8ad3-7c4ed8c93175",
   "metadata": {},
   "outputs": [
    {
     "data": {
      "text/html": [
       "<div>\n",
       "<style scoped>\n",
       "    .dataframe tbody tr th:only-of-type {\n",
       "        vertical-align: middle;\n",
       "    }\n",
       "\n",
       "    .dataframe tbody tr th {\n",
       "        vertical-align: top;\n",
       "    }\n",
       "\n",
       "    .dataframe thead th {\n",
       "        text-align: right;\n",
       "    }\n",
       "</style>\n",
       "<table border=\"1\" class=\"dataframe\">\n",
       "  <thead>\n",
       "    <tr style=\"text-align: right;\">\n",
       "      <th></th>\n",
       "      <th>price</th>\n",
       "      <th>vehicle_type</th>\n",
       "      <th>registration_year</th>\n",
       "      <th>gearbox</th>\n",
       "      <th>power</th>\n",
       "      <th>model</th>\n",
       "      <th>mileage</th>\n",
       "      <th>fuel_type</th>\n",
       "      <th>brand</th>\n",
       "      <th>not_repaired</th>\n",
       "    </tr>\n",
       "  </thead>\n",
       "  <tbody>\n",
       "    <tr>\n",
       "      <th>72467</th>\n",
       "      <td>2900</td>\n",
       "      <td>sedan</td>\n",
       "      <td>1980</td>\n",
       "      <td>unknown</td>\n",
       "      <td>118</td>\n",
       "      <td>other</td>\n",
       "      <td>150000</td>\n",
       "      <td>gasoline</td>\n",
       "      <td>bmw</td>\n",
       "      <td>0</td>\n",
       "    </tr>\n",
       "    <tr>\n",
       "      <th>300068</th>\n",
       "      <td>125</td>\n",
       "      <td>wagon</td>\n",
       "      <td>2000</td>\n",
       "      <td>unknown</td>\n",
       "      <td>109</td>\n",
       "      <td>focus</td>\n",
       "      <td>150000</td>\n",
       "      <td>gasoline</td>\n",
       "      <td>ford</td>\n",
       "      <td>0</td>\n",
       "    </tr>\n",
       "    <tr>\n",
       "      <th>4476</th>\n",
       "      <td>999</td>\n",
       "      <td>sedan</td>\n",
       "      <td>1990</td>\n",
       "      <td>unknown</td>\n",
       "      <td>118</td>\n",
       "      <td>other</td>\n",
       "      <td>30000</td>\n",
       "      <td>gasoline</td>\n",
       "      <td>mercedes_benz</td>\n",
       "      <td>0</td>\n",
       "    </tr>\n",
       "  </tbody>\n",
       "</table>\n",
       "</div>"
      ],
      "text/plain": [
       "        price vehicle_type  registration_year  gearbox  power  model  mileage  \\\n",
       "72467    2900        sedan               1980  unknown    118  other   150000   \n",
       "300068    125        wagon               2000  unknown    109  focus   150000   \n",
       "4476      999        sedan               1990  unknown    118  other    30000   \n",
       "\n",
       "       fuel_type          brand  not_repaired  \n",
       "72467   gasoline            bmw             0  \n",
       "300068  gasoline           ford             0  \n",
       "4476    gasoline  mercedes_benz             0  "
      ]
     },
     "metadata": {},
     "output_type": "display_data"
    }
   ],
   "source": [
    "# Filtrado de filas con valores 'unknown'\n",
    "mask = (\n",
    "    df_filtered['gearbox'].str.contains('unknown', case=False, na=False) |\n",
    "    df_filtered['model'].str.contains('unknown', case=False, na=False) |\n",
    "    df_filtered['vehicle_type'].str.contains('unknown', case=False, na=False) |\n",
    "    df_filtered['fuel_type'].str.contains('unknown', case=False, na=False)\n",
    ")\n",
    "\n",
    "filtered_rows = df_filtered[mask]\n",
    "display(filtered_rows.sample(3))"
   ]
  },
  {
   "cell_type": "markdown",
   "id": "116d2056-cc0b-4060-887b-9bf9093b0099",
   "metadata": {},
   "source": [
    "Los datos depurados se almacenan en la variable denominada `df_final`, la cual servirá como base para la creación de los conjuntos de entrenamiento y prueba."
   ]
  },
  {
   "cell_type": "code",
   "execution_count": 59,
   "id": "23415b60-22aa-4dc1-bf38-773ae586e97f",
   "metadata": {},
   "outputs": [
    {
     "name": "stdout",
     "output_type": "stream",
     "text": [
      "<class 'pandas.core.frame.DataFrame'>\n",
      "Index: 321736 entries, 0 to 354106\n",
      "Data columns (total 10 columns):\n",
      " #   Column             Non-Null Count   Dtype \n",
      "---  ------             --------------   ----- \n",
      " 0   price              321736 non-null  int64 \n",
      " 1   vehicle_type       321736 non-null  object\n",
      " 2   registration_year  321736 non-null  int64 \n",
      " 3   gearbox            321736 non-null  object\n",
      " 4   power              321736 non-null  int64 \n",
      " 5   model              321736 non-null  object\n",
      " 6   mileage            321736 non-null  int64 \n",
      " 7   fuel_type          321736 non-null  object\n",
      " 8   brand              321736 non-null  object\n",
      " 9   not_repaired       321736 non-null  int64 \n",
      "dtypes: int64(5), object(5)\n",
      "memory usage: 27.0+ MB\n"
     ]
    }
   ],
   "source": [
    "# Filtrado y copia de df con datos limpios\n",
    "df_filtered = df_filtered.loc[~mask]\n",
    "\n",
    "df_final = df_filtered.copy()\n",
    "\n",
    "df_final.info()"
   ]
  },
  {
   "cell_type": "code",
   "execution_count": 60,
   "id": "1d6eb438-4013-44bb-a52b-86981387ddef",
   "metadata": {},
   "outputs": [
    {
     "name": "stdout",
     "output_type": "stream",
     "text": [
      "Porcentaje mantenido: 90.86%\n"
     ]
    }
   ],
   "source": [
    "# Cálculo del porcentaje de datos mantenidos tras filtrado\n",
    "print(f'Porcentaje mantenido: {((len(df_final)/len(df)) * 100):.2f}%')"
   ]
  },
  {
   "cell_type": "markdown",
   "id": "386be03f-1fce-4cd0-887b-84e6f4fe660a",
   "metadata": {},
   "source": [
    "Utilizar solo el 90.86 % del conjunto de datos original tras la limpieza indica que se ha eliminado aproximadamente un 9.14 % de registros debido a valores faltantes, erróneos o atípicos. Esta reducción es común y necesaria para asegurar la calidad y fiabilidad del análisis, aunque es importante verificar que no se comprometa la representatividad ni se introduzca sesgo en el conjunto final. En caso de que la pérdida de datos sea significativa, se pueden considerar técnicas como la imputación o el tratamiento específico de valores atípicos para preservar la mayor cantidad de información posible sin afectar la integridad del análisis."
   ]
  },
  {
   "cell_type": "markdown",
   "id": "25b8ad52-831d-4513-8dc8-9cdf63e29d8a",
   "metadata": {},
   "source": [
    "## Preparación de conjuntos de entrenamiento y prueba"
   ]
  },
  {
   "cell_type": "markdown",
   "id": "62a13007-e248-4798-8f20-8225b0df8477",
   "metadata": {},
   "source": [
    "Se crearán dos conjuntos de datos: uno únicamente escalado y otro escalado y codificado. Esta diferenciación responde a que algunos modelos de aprendizaje automático pueden trabajar directamente con variables categóricas, mientras que otros requieren que dichas variables estén codificadas numéricamente para su correcto procesamiento. En ambos casos, se aplicará escalado a los datos, ya que esta transformación mejora el rendimiento y la convergencia de los modelos en general. Posteriormente, cada conjunto se dividirá en subconjuntos de entrenamiento y prueba para evaluar adecuadamente el desempeño de los modelos."
   ]
  },
  {
   "cell_type": "code",
   "execution_count": 61,
   "id": "bee68f12-aac4-49c6-b3e3-3d6da1577cb1",
   "metadata": {},
   "outputs": [
    {
     "name": "stdout",
     "output_type": "stream",
     "text": [
      "<class 'pandas.core.frame.DataFrame'>\n",
      "Index: 321736 entries, 0 to 354106\n",
      "Data columns (total 10 columns):\n",
      " #   Column             Non-Null Count   Dtype   \n",
      "---  ------             --------------   -----   \n",
      " 0   price              321736 non-null  int64   \n",
      " 1   vehicle_type       321736 non-null  category\n",
      " 2   registration_year  321736 non-null  int64   \n",
      " 3   gearbox            321736 non-null  category\n",
      " 4   power              321736 non-null  int64   \n",
      " 5   model              321736 non-null  category\n",
      " 6   mileage            321736 non-null  int64   \n",
      " 7   fuel_type          321736 non-null  category\n",
      " 8   brand              321736 non-null  category\n",
      " 9   not_repaired       321736 non-null  int64   \n",
      "dtypes: category(5), int64(5)\n",
      "memory usage: 16.6 MB\n"
     ]
    }
   ],
   "source": [
    "# Conversión de columnas a tipo categórico\n",
    "categorical = ['vehicle_type','gearbox', 'model','fuel_type','brand']\n",
    "df_final[categorical] = df_final[categorical].astype('category')\n",
    "df_final.info()"
   ]
  },
  {
   "cell_type": "code",
   "execution_count": 62,
   "id": "c36109c1-7ee3-4861-9148-c0e7b165f1dd",
   "metadata": {},
   "outputs": [
    {
     "data": {
      "text/html": [
       "<div>\n",
       "<style scoped>\n",
       "    .dataframe tbody tr th:only-of-type {\n",
       "        vertical-align: middle;\n",
       "    }\n",
       "\n",
       "    .dataframe tbody tr th {\n",
       "        vertical-align: top;\n",
       "    }\n",
       "\n",
       "    .dataframe thead th {\n",
       "        text-align: right;\n",
       "    }\n",
       "</style>\n",
       "<table border=\"1\" class=\"dataframe\">\n",
       "  <thead>\n",
       "    <tr style=\"text-align: right;\">\n",
       "      <th></th>\n",
       "      <th>price</th>\n",
       "      <th>vehicle_type</th>\n",
       "      <th>registration_year</th>\n",
       "      <th>gearbox</th>\n",
       "      <th>power</th>\n",
       "      <th>model</th>\n",
       "      <th>mileage</th>\n",
       "      <th>fuel_type</th>\n",
       "      <th>brand</th>\n",
       "      <th>not_repaired</th>\n",
       "    </tr>\n",
       "  </thead>\n",
       "  <tbody>\n",
       "    <tr>\n",
       "      <th>0</th>\n",
       "      <td>0.024</td>\n",
       "      <td>sedan</td>\n",
       "      <td>0.988591</td>\n",
       "      <td>manual</td>\n",
       "      <td>0.0505</td>\n",
       "      <td>golf</td>\n",
       "      <td>1.000000</td>\n",
       "      <td>gasoline</td>\n",
       "      <td>volkswagen</td>\n",
       "      <td>0</td>\n",
       "    </tr>\n",
       "    <tr>\n",
       "      <th>1</th>\n",
       "      <td>0.915</td>\n",
       "      <td>coupe</td>\n",
       "      <td>0.997520</td>\n",
       "      <td>manual</td>\n",
       "      <td>0.0950</td>\n",
       "      <td>a4</td>\n",
       "      <td>0.833333</td>\n",
       "      <td>gasoline</td>\n",
       "      <td>audi</td>\n",
       "      <td>1</td>\n",
       "    </tr>\n",
       "    <tr>\n",
       "      <th>2</th>\n",
       "      <td>0.490</td>\n",
       "      <td>suv</td>\n",
       "      <td>0.994048</td>\n",
       "      <td>auto</td>\n",
       "      <td>0.0815</td>\n",
       "      <td>grand</td>\n",
       "      <td>0.833333</td>\n",
       "      <td>gasoline</td>\n",
       "      <td>jeep</td>\n",
       "      <td>0</td>\n",
       "    </tr>\n",
       "    <tr>\n",
       "      <th>3</th>\n",
       "      <td>0.075</td>\n",
       "      <td>small</td>\n",
       "      <td>0.992560</td>\n",
       "      <td>manual</td>\n",
       "      <td>0.0375</td>\n",
       "      <td>golf</td>\n",
       "      <td>1.000000</td>\n",
       "      <td>gasoline</td>\n",
       "      <td>volkswagen</td>\n",
       "      <td>0</td>\n",
       "    </tr>\n",
       "    <tr>\n",
       "      <th>4</th>\n",
       "      <td>0.180</td>\n",
       "      <td>small</td>\n",
       "      <td>0.996032</td>\n",
       "      <td>manual</td>\n",
       "      <td>0.0345</td>\n",
       "      <td>fabia</td>\n",
       "      <td>0.600000</td>\n",
       "      <td>gasoline</td>\n",
       "      <td>skoda</td>\n",
       "      <td>0</td>\n",
       "    </tr>\n",
       "  </tbody>\n",
       "</table>\n",
       "</div>"
      ],
      "text/plain": [
       "   price vehicle_type  registration_year gearbox   power  model   mileage  \\\n",
       "0  0.024        sedan           0.988591  manual  0.0505   golf  1.000000   \n",
       "1  0.915        coupe           0.997520  manual  0.0950     a4  0.833333   \n",
       "2  0.490          suv           0.994048    auto  0.0815  grand  0.833333   \n",
       "3  0.075        small           0.992560  manual  0.0375   golf  1.000000   \n",
       "4  0.180        small           0.996032  manual  0.0345  fabia  0.600000   \n",
       "\n",
       "  fuel_type       brand  not_repaired  \n",
       "0  gasoline  volkswagen             0  \n",
       "1  gasoline        audi             1  \n",
       "2  gasoline        jeep             0  \n",
       "3  gasoline  volkswagen             0  \n",
       "4  gasoline       skoda             0  "
      ]
     },
     "execution_count": 62,
     "metadata": {},
     "output_type": "execute_result"
    }
   ],
   "source": [
    "# Escalado de variables numéricas\n",
    "df_sc = df_final.copy()\n",
    "cols_to_scale = ['price', 'registration_year', 'power', 'mileage']\n",
    "\n",
    "scaler = MaxAbsScaler()\n",
    "df_sc[cols_to_scale] = scaler.fit_transform(df_sc[cols_to_scale])\n",
    "df_sc.head()"
   ]
  },
  {
   "cell_type": "code",
   "execution_count": 63,
   "id": "c3652d43-6f3d-4e26-9e16-67e80408c802",
   "metadata": {},
   "outputs": [
    {
     "data": {
      "text/html": [
       "<div>\n",
       "<style scoped>\n",
       "    .dataframe tbody tr th:only-of-type {\n",
       "        vertical-align: middle;\n",
       "    }\n",
       "\n",
       "    .dataframe tbody tr th {\n",
       "        vertical-align: top;\n",
       "    }\n",
       "\n",
       "    .dataframe thead th {\n",
       "        text-align: right;\n",
       "    }\n",
       "</style>\n",
       "<table border=\"1\" class=\"dataframe\">\n",
       "  <thead>\n",
       "    <tr style=\"text-align: right;\">\n",
       "      <th></th>\n",
       "      <th>price</th>\n",
       "      <th>registration_year</th>\n",
       "      <th>power</th>\n",
       "      <th>mileage</th>\n",
       "      <th>not_repaired</th>\n",
       "      <th>model_encoded</th>\n",
       "      <th>brand_encoded</th>\n",
       "      <th>vehicle_type_bus</th>\n",
       "      <th>vehicle_type_convertible</th>\n",
       "      <th>vehicle_type_coupe</th>\n",
       "      <th>...</th>\n",
       "      <th>vehicle_type_suv</th>\n",
       "      <th>vehicle_type_wagon</th>\n",
       "      <th>gearbox_auto</th>\n",
       "      <th>gearbox_manual</th>\n",
       "      <th>fuel_type_cng</th>\n",
       "      <th>fuel_type_electric</th>\n",
       "      <th>fuel_type_gasoline</th>\n",
       "      <th>fuel_type_hybrid</th>\n",
       "      <th>fuel_type_lpg</th>\n",
       "      <th>fuel_type_other</th>\n",
       "    </tr>\n",
       "  </thead>\n",
       "  <tbody>\n",
       "    <tr>\n",
       "      <th>0</th>\n",
       "      <td>0.024</td>\n",
       "      <td>0.988591</td>\n",
       "      <td>0.0505</td>\n",
       "      <td>1.000000</td>\n",
       "      <td>0</td>\n",
       "      <td>116</td>\n",
       "      <td>37</td>\n",
       "      <td>0</td>\n",
       "      <td>0</td>\n",
       "      <td>0</td>\n",
       "      <td>...</td>\n",
       "      <td>0</td>\n",
       "      <td>0</td>\n",
       "      <td>0</td>\n",
       "      <td>1</td>\n",
       "      <td>0</td>\n",
       "      <td>0</td>\n",
       "      <td>1</td>\n",
       "      <td>0</td>\n",
       "      <td>0</td>\n",
       "      <td>0</td>\n",
       "    </tr>\n",
       "    <tr>\n",
       "      <th>1</th>\n",
       "      <td>0.915</td>\n",
       "      <td>0.997520</td>\n",
       "      <td>0.0950</td>\n",
       "      <td>0.833333</td>\n",
       "      <td>1</td>\n",
       "      <td>29</td>\n",
       "      <td>1</td>\n",
       "      <td>0</td>\n",
       "      <td>0</td>\n",
       "      <td>1</td>\n",
       "      <td>...</td>\n",
       "      <td>0</td>\n",
       "      <td>0</td>\n",
       "      <td>0</td>\n",
       "      <td>1</td>\n",
       "      <td>0</td>\n",
       "      <td>0</td>\n",
       "      <td>1</td>\n",
       "      <td>0</td>\n",
       "      <td>0</td>\n",
       "      <td>0</td>\n",
       "    </tr>\n",
       "    <tr>\n",
       "      <th>2</th>\n",
       "      <td>0.490</td>\n",
       "      <td>0.994048</td>\n",
       "      <td>0.0815</td>\n",
       "      <td>0.833333</td>\n",
       "      <td>0</td>\n",
       "      <td>117</td>\n",
       "      <td>14</td>\n",
       "      <td>0</td>\n",
       "      <td>0</td>\n",
       "      <td>0</td>\n",
       "      <td>...</td>\n",
       "      <td>1</td>\n",
       "      <td>0</td>\n",
       "      <td>1</td>\n",
       "      <td>0</td>\n",
       "      <td>0</td>\n",
       "      <td>0</td>\n",
       "      <td>1</td>\n",
       "      <td>0</td>\n",
       "      <td>0</td>\n",
       "      <td>0</td>\n",
       "    </tr>\n",
       "    <tr>\n",
       "      <th>3</th>\n",
       "      <td>0.075</td>\n",
       "      <td>0.992560</td>\n",
       "      <td>0.0375</td>\n",
       "      <td>1.000000</td>\n",
       "      <td>0</td>\n",
       "      <td>116</td>\n",
       "      <td>37</td>\n",
       "      <td>0</td>\n",
       "      <td>0</td>\n",
       "      <td>0</td>\n",
       "      <td>...</td>\n",
       "      <td>0</td>\n",
       "      <td>0</td>\n",
       "      <td>0</td>\n",
       "      <td>1</td>\n",
       "      <td>0</td>\n",
       "      <td>0</td>\n",
       "      <td>1</td>\n",
       "      <td>0</td>\n",
       "      <td>0</td>\n",
       "      <td>0</td>\n",
       "    </tr>\n",
       "    <tr>\n",
       "      <th>4</th>\n",
       "      <td>0.180</td>\n",
       "      <td>0.996032</td>\n",
       "      <td>0.0345</td>\n",
       "      <td>0.600000</td>\n",
       "      <td>0</td>\n",
       "      <td>101</td>\n",
       "      <td>31</td>\n",
       "      <td>0</td>\n",
       "      <td>0</td>\n",
       "      <td>0</td>\n",
       "      <td>...</td>\n",
       "      <td>0</td>\n",
       "      <td>0</td>\n",
       "      <td>0</td>\n",
       "      <td>1</td>\n",
       "      <td>0</td>\n",
       "      <td>0</td>\n",
       "      <td>1</td>\n",
       "      <td>0</td>\n",
       "      <td>0</td>\n",
       "      <td>0</td>\n",
       "    </tr>\n",
       "  </tbody>\n",
       "</table>\n",
       "<p>5 rows × 23 columns</p>\n",
       "</div>"
      ],
      "text/plain": [
       "   price  registration_year   power   mileage  not_repaired  model_encoded  \\\n",
       "0  0.024           0.988591  0.0505  1.000000             0            116   \n",
       "1  0.915           0.997520  0.0950  0.833333             1             29   \n",
       "2  0.490           0.994048  0.0815  0.833333             0            117   \n",
       "3  0.075           0.992560  0.0375  1.000000             0            116   \n",
       "4  0.180           0.996032  0.0345  0.600000             0            101   \n",
       "\n",
       "   brand_encoded  vehicle_type_bus  vehicle_type_convertible  \\\n",
       "0             37                 0                         0   \n",
       "1              1                 0                         0   \n",
       "2             14                 0                         0   \n",
       "3             37                 0                         0   \n",
       "4             31                 0                         0   \n",
       "\n",
       "   vehicle_type_coupe  ...  vehicle_type_suv  vehicle_type_wagon  \\\n",
       "0                   0  ...                 0                   0   \n",
       "1                   1  ...                 0                   0   \n",
       "2                   0  ...                 1                   0   \n",
       "3                   0  ...                 0                   0   \n",
       "4                   0  ...                 0                   0   \n",
       "\n",
       "   gearbox_auto  gearbox_manual  fuel_type_cng  fuel_type_electric  \\\n",
       "0             0               1              0                   0   \n",
       "1             0               1              0                   0   \n",
       "2             1               0              0                   0   \n",
       "3             0               1              0                   0   \n",
       "4             0               1              0                   0   \n",
       "\n",
       "   fuel_type_gasoline  fuel_type_hybrid  fuel_type_lpg  fuel_type_other  \n",
       "0                   1                 0              0                0  \n",
       "1                   1                 0              0                0  \n",
       "2                   1                 0              0                0  \n",
       "3                   1                 0              0                0  \n",
       "4                   1                 0              0                0  \n",
       "\n",
       "[5 rows x 23 columns]"
      ]
     },
     "metadata": {},
     "output_type": "display_data"
    }
   ],
   "source": [
    "# Codificación de variables categóricas\n",
    "\n",
    "df_sc_cd = df_sc.copy()\n",
    "\n",
    "# LabelEncoder para características con alta cardinalidad\n",
    "le = LabelEncoder()\n",
    "df_sc_cd['model_encoded'] = le.fit_transform(df_sc_cd['model'])\n",
    "df_sc_cd['brand_encoded'] = le.fit_transform(df_sc_cd['brand'])\n",
    "df_sc_cd.drop(columns=['model', 'brand'], inplace=True)\n",
    "\n",
    "# OHE para características con baja cardinalidad\n",
    "df_sc_cd = pd.get_dummies(df_sc_cd, columns=['vehicle_type', 'gearbox', 'fuel_type'], dtype=int)\n",
    "display(df_sc_cd.head(5))"
   ]
  },
  {
   "cell_type": "code",
   "execution_count": 64,
   "id": "552c1396-235f-463d-a673-c720ff8352ee",
   "metadata": {},
   "outputs": [
    {
     "name": "stdout",
     "output_type": "stream",
     "text": [
      "Tamaño del conjunto de entrenamiento codificado: (241302, 22), (241302,)\n",
      "Tamaño del conjunto de prueba codificado: (80434, 22), (80434,)\n"
     ]
    }
   ],
   "source": [
    "# División de conjuntos escalados y codificados para modelado\n",
    "\n",
    "# Conjuntos escalados\n",
    "x_sc = df_sc.drop('price', axis=1)\n",
    "y_sc = df_sc['price']\n",
    "\n",
    "# Conjuntos escalados y codificados\n",
    "x_sc_cd = df_sc_cd.drop('price', axis=1)\n",
    "y_sc_cd = df_sc_cd['price']\n",
    "\n",
    "# División en conjuntos de entrenamiento y prueba\n",
    "x_train_sc_cd, x_test_sc_cd, y_train_sc_cd, y_test_sc_cd = train_test_split(x_sc_cd, y_sc_cd, test_size=0.25, random_state=12345)\n",
    "x_train_sc, x_test_sc, y_train_sc, y_test_sc = train_test_split(x_sc, y_sc, test_size=0.25, random_state=12345)\n",
    "\n",
    "# Comprobación de divisón correcta\n",
    "print(f'Tamaño del conjunto de entrenamiento codificado: {x_train_sc_cd.shape}, {y_train_sc_cd.shape}')\n",
    "print(f'Tamaño del conjunto de prueba codificado: {x_test_sc_cd.shape}, {y_test_sc_cd.shape}')"
   ]
  },
  {
   "cell_type": "markdown",
   "id": "811f0ab6-b4b3-45ac-abe8-fc5f1562b054",
   "metadata": {},
   "source": [
    "# Comparación de modelos"
   ]
  },
  {
   "cell_type": "markdown",
   "id": "d808d6ce-da49-4108-9da0-765314d84d77",
   "metadata": {},
   "source": [
    "## Regresión linear"
   ]
  },
  {
   "cell_type": "markdown",
   "id": "9d58cee5-9d86-4d59-86d2-5e853ae1a8b4",
   "metadata": {},
   "source": [
    "El modelo de regresión lineal es una técnica estadística que establece una relación lineal entre una variable dependiente y una o varias variables independientes, permitiendo predecir valores continuos mediante una ecuación simple sin ajuste de hiperparámetros. Se utilizará como prueba de cordura para los modelos posteriores porque su simplicidad y ausencia de parámetros ajustables lo convierten en una referencia clara y sin sesgos de optimización. De este modo, el desempeño de los modelos más complejos podrá compararse objetivamente frente a este baseline, utilizando el error cuadrático medio (RECM) como métrica para evaluar si efectivamente aportan una mejora significativa."
   ]
  },
  {
   "cell_type": "code",
   "execution_count": 65,
   "id": "c80be456-f7fc-4b20-a982-aa78078aa265",
   "metadata": {},
   "outputs": [],
   "source": [
    "# Entrenamiento del modelo de regresión lineal\n",
    "start_train = time.time()\n",
    "lr_model = LinearRegression()\n",
    "lr_model.fit(x_train_sc_cd, y_train_sc_cd)\n",
    "end_train = time.time()\n",
    "\n",
    "# Predicciones\n",
    "start_test = time.time()\n",
    "y_pred = lr_model.predict(x_test_sc_cd)\n",
    "end_test = time.time()\n",
    "\n",
    "# Establecimiento de RECM (prueba de cordura)\n",
    "RECM_lr = mean_squared_error(y_test_sc_cd, y_pred, squared=False)\n",
    "time_train_lr = end_train - start_train\n",
    "time_predict_lr = end_test - start_test"
   ]
  },
  {
   "cell_type": "code",
   "execution_count": 66,
   "id": "08fcb850-8896-442b-913b-d828f6bda33c",
   "metadata": {},
   "outputs": [
    {
     "data": {
      "text/html": [
       "<div>\n",
       "<style scoped>\n",
       "    .dataframe tbody tr th:only-of-type {\n",
       "        vertical-align: middle;\n",
       "    }\n",
       "\n",
       "    .dataframe tbody tr th {\n",
       "        vertical-align: top;\n",
       "    }\n",
       "\n",
       "    .dataframe thead th {\n",
       "        text-align: right;\n",
       "    }\n",
       "</style>\n",
       "<table border=\"1\" class=\"dataframe\">\n",
       "  <thead>\n",
       "    <tr style=\"text-align: right;\">\n",
       "      <th></th>\n",
       "      <th>recm</th>\n",
       "      <th>time_adj</th>\n",
       "      <th>time_train</th>\n",
       "      <th>time_pred</th>\n",
       "    </tr>\n",
       "  </thead>\n",
       "  <tbody>\n",
       "    <tr>\n",
       "      <th>Regresión Lineal (prueba  de cordura)</th>\n",
       "      <td>0.1542</td>\n",
       "      <td>0.0</td>\n",
       "      <td>2.0243</td>\n",
       "      <td>0.0278</td>\n",
       "    </tr>\n",
       "  </tbody>\n",
       "</table>\n",
       "</div>"
      ],
      "text/plain": [
       "                                         recm  time_adj  time_train  time_pred\n",
       "Regresión Lineal (prueba  de cordura)  0.1542       0.0      2.0243     0.0278"
      ]
     },
     "execution_count": 66,
     "metadata": {},
     "output_type": "execute_result"
    }
   ],
   "source": [
    "results = pd.DataFrame(columns=['recm', 'time_adj', 'time_train', 'time_pred'])\n",
    "results.loc['Regresión Lineal (prueba  de cordura)'] = [RECM_lr, 0, time_train_lr, time_predict_lr]\n",
    "\n",
    "results.round(4)"
   ]
  },
  {
   "cell_type": "markdown",
   "id": "ec3c8778-4fa0-42f8-890b-eedf6397d8a2",
   "metadata": {},
   "source": [
    "## Árbol de decisión"
   ]
  },
  {
   "cell_type": "markdown",
   "id": "6a471935-b509-42c2-abff-2ab71e4bcd7a",
   "metadata": {},
   "source": [
    "Un árbol de decisión es un modelo predictivo que representa decisiones y sus posibles resultados mediante una estructura jerárquica de nodos y ramas. Cada nodo interno evalúa una característica del conjunto de datos para dividirlo en subconjuntos más homogéneos, facilitando así tareas de clasificación o regresión. \n",
    "\n",
    "Para optimizar el desempeño del modelo, se explorarán los hiperparámetros `max_depth`, que controla la profundidad máxima del árbol para evitar sobreajuste; `min_samples_split`, que define el número mínimo de muestras necesarias para dividir un nodo; y `min_samples_leaf`, que establece el mínimo de muestras que debe tener una hoja. La búsqueda en los rangos `max_depth`, `min_samples_split` y `min_samples_leaf` \n",
    "permitirá encontrar la configuración que mejor balancee la complejidad y generalización del modelo."
   ]
  },
  {
   "cell_type": "code",
   "execution_count": 67,
   "id": "27a79b1a-fe5c-4710-b29e-5c377df44485",
   "metadata": {},
   "outputs": [],
   "source": [
    "# Establecimiento de hiperparámetros\n",
    "params_dt = {\n",
    "    'max_depth': [1, 2, 3, 4, 5, 6] ,\n",
    "    'min_samples_split': [2, 4, 6, 8],\n",
    "    'min_samples_leaf': [2, 4, 6, 8],\n",
    "}\n",
    "\n",
    "# Función GridSearchCV con hiperparámetros establecidos\n",
    "dt_est = DecisionTreeRegressor(random_state=12345)\n",
    "\n",
    "gridSearch_dt = GridSearchCV(\n",
    "    estimator=dt_est,\n",
    "    param_grid=params_dt,\n",
    "    scoring='neg_root_mean_squared_error',\n",
    "    cv=3   \n",
    ")"
   ]
  },
  {
   "cell_type": "code",
   "execution_count": 68,
   "id": "da113fec-6184-4fb3-8576-5759bcd9752a",
   "metadata": {},
   "outputs": [
    {
     "name": "stdout",
     "output_type": "stream",
     "text": [
      "Tiempo de ajuste de hiperparámetros para Árbol de Decisión: 176.0542s\n",
      "Mejores hiperparámetros: {'max_depth': 6, 'min_samples_leaf': 2, 'min_samples_split': 2} | Mejor RECM: 0.1139\n"
     ]
    }
   ],
   "source": [
    "# Entrenamiento de modelo para encontrar los mejores hiperparámetros\n",
    "start = time.time()\n",
    "gridSearch_dt.fit(x_train_sc_cd, y_train_sc_cd)\n",
    "end = time.time()\n",
    "\n",
    "time_adj_dt = end-start\n",
    "print(f'Tiempo de ajuste de hiperparámetros para Árbol de Decisión: {time_adj_dt:.4f}s')\n",
    "\n",
    "# Búsqueda de mejores hiperparámetros que devuelva el valor más bajo de RECM\n",
    "max_score = gridSearch_dt.cv_results_['mean_test_score'].max()\n",
    "index_max_score = np.where(gridSearch_dt.cv_results_['mean_test_score'] == max_score)[0][0]\n",
    "\n",
    "best_set_of_params = gridSearch_dt.cv_results_['params'][index_max_score]\n",
    "\n",
    "print(f'Mejores hiperparámetros: {best_set_of_params} | Mejor RECM: {-max_score:.4f}')"
   ]
  },
  {
   "cell_type": "code",
   "execution_count": 69,
   "id": "13673c27-b1d6-4807-bcc0-bd3aa1ead325",
   "metadata": {},
   "outputs": [],
   "source": [
    "# Entrenamiento del modelo con los mejores hiperparámetros \n",
    "start_train = time.time()\n",
    "dt_model = DecisionTreeRegressor(random_state=12345, max_depth=6, min_samples_split=2, min_samples_leaf=2)\n",
    "dt_model.fit(x_train_sc_cd, y_train_sc_cd)\n",
    "end_train = time.time()\n",
    "\n",
    "# Realización de predicciones con conjunto de prueba\n",
    "start_test = time.time()\n",
    "y_pred_dt = dt_model.predict(x_test_sc_cd)\n",
    "end_test = time.time()\n",
    "\n",
    "RECM_dt = mean_squared_error(y_test_sc_cd, y_pred_dt)**0.5\n",
    "\n",
    "time_train_dt = end_train - start_train\n",
    "time_predict_dt = end_test - start_test"
   ]
  },
  {
   "cell_type": "code",
   "execution_count": 70,
   "id": "54fc4f1c-6615-4d01-9b21-4ddbb5103b40",
   "metadata": {},
   "outputs": [
    {
     "data": {
      "text/html": [
       "<div>\n",
       "<style scoped>\n",
       "    .dataframe tbody tr th:only-of-type {\n",
       "        vertical-align: middle;\n",
       "    }\n",
       "\n",
       "    .dataframe tbody tr th {\n",
       "        vertical-align: top;\n",
       "    }\n",
       "\n",
       "    .dataframe thead th {\n",
       "        text-align: right;\n",
       "    }\n",
       "</style>\n",
       "<table border=\"1\" class=\"dataframe\">\n",
       "  <thead>\n",
       "    <tr style=\"text-align: right;\">\n",
       "      <th></th>\n",
       "      <th>recm</th>\n",
       "      <th>time_adj</th>\n",
       "      <th>time_train</th>\n",
       "      <th>time_pred</th>\n",
       "    </tr>\n",
       "  </thead>\n",
       "  <tbody>\n",
       "    <tr>\n",
       "      <th>Regresión Lineal (prueba  de cordura)</th>\n",
       "      <td>0.1542</td>\n",
       "      <td>0.0000</td>\n",
       "      <td>2.0243</td>\n",
       "      <td>0.0278</td>\n",
       "    </tr>\n",
       "    <tr>\n",
       "      <th>DecisionTreeRegressor</th>\n",
       "      <td>0.1136</td>\n",
       "      <td>176.0542</td>\n",
       "      <td>1.7398</td>\n",
       "      <td>0.0215</td>\n",
       "    </tr>\n",
       "  </tbody>\n",
       "</table>\n",
       "</div>"
      ],
      "text/plain": [
       "                                         recm  time_adj  time_train  time_pred\n",
       "Regresión Lineal (prueba  de cordura)  0.1542    0.0000      2.0243     0.0278\n",
       "DecisionTreeRegressor                  0.1136  176.0542      1.7398     0.0215"
      ]
     },
     "execution_count": 70,
     "metadata": {},
     "output_type": "execute_result"
    }
   ],
   "source": [
    "# Visualización de resultados\n",
    "results.loc['DecisionTreeRegressor'] = [RECM_dt, time_adj_dt, time_train_dt, time_predict_dt]\n",
    "results.iloc[[0, -1]].round(4)"
   ]
  },
  {
   "cell_type": "markdown",
   "id": "69005774-e7ee-4583-8f92-253c79dcf169",
   "metadata": {},
   "source": [
    "## Bosque aleatorio"
   ]
  },
  {
   "cell_type": "markdown",
   "id": "71648d0c-1f91-4e17-9fb3-86aac0c2cdb6",
   "metadata": {},
   "source": [
    "El bosque aleatorio es un algoritmo que combina múltiples árboles de decisión para mejorar la precisión y robustez de las predicciones. Cada árbol se construye a partir de una muestra aleatoria del conjunto de datos y considera un subconjunto aleatorio de características, lo que reduce la correlación entre árboles y minimiza el riesgo de sobreajuste. La predicción final se obtiene mediante el voto mayoritario en clasificación o el promedio en regresión, lo que aporta estabilidad y buen desempeño general. \n",
    "\n",
    "Para optimizar el modelo, se explorarán los hiperparámetros `'n_estimators'` —que determina la cantidad de árboles en el bosque— y `'max_depth'` —que limita la profundidad máxima de cada árbol. Esta búsqueda permitirá encontrar un balance adecuado entre complejidad y generalización, mejorando la capacidad predictiva del modelo.\n"
   ]
  },
  {
   "cell_type": "code",
   "execution_count": 71,
   "id": "e8e5d778-4925-4b16-a787-dfe314b900a0",
   "metadata": {},
   "outputs": [],
   "source": [
    "# Establecimiento de hiperparámetros\n",
    "params_rf = {\n",
    "    'n_estimators' : [10, 20, 40],\n",
    "    'max_depth': [4, 5, 6] \n",
    "}\n",
    "\n",
    "#Función GridSearchCV con hiperparámetros establecidos\n",
    "rf_est = RandomForestRegressor(random_state=12345)\n",
    "\n",
    "gridSearch_rf = GridSearchCV(\n",
    "    estimator=rf_est,\n",
    "    param_grid=params_rf,\n",
    "    scoring='neg_root_mean_squared_error',\n",
    "    cv=3   \n",
    ")"
   ]
  },
  {
   "cell_type": "code",
   "execution_count": 72,
   "id": "85ef776a-4c42-4a5b-adb9-07cb220492b1",
   "metadata": {},
   "outputs": [
    {
     "name": "stdout",
     "output_type": "stream",
     "text": [
      "Tiempo de ajuste de hiperparámetros Bosque Aleatorio: 422.8277s\n",
      "Mejores hiperparámetros: {'max_depth': 6, 'n_estimators': 40} | Mejor RECM: 0.1116\n"
     ]
    }
   ],
   "source": [
    "# Entrenamiento de modelo para encontrar los mejores hiperparámetros\n",
    "start = time.time()\n",
    "gridSearch_rf.fit(x_train_sc_cd, y_train_sc_cd)\n",
    "end = time.time()\n",
    "\n",
    "time_adj_rf = end-start\n",
    "\n",
    "print(f'Tiempo de ajuste de hiperparámetros Bosque Aleatorio: {time_adj_rf:.4f}s')\n",
    "\n",
    "# Búsqueda de mejores hiperparámetros que devuelva el valor más bajo de RECM\n",
    "max_score = gridSearch_rf.cv_results_[\"mean_test_score\"].max()\n",
    "index_max_score = np.where(gridSearch_rf.cv_results_[\"mean_test_score\"] == max_score)[0][0]\n",
    "\n",
    "best_set_of_params = gridSearch_rf.cv_results_[\"params\"][index_max_score]\n",
    "\n",
    "print(f'Mejores hiperparámetros: {best_set_of_params} | Mejor RECM: {-max_score:.4f}')"
   ]
  },
  {
   "cell_type": "code",
   "execution_count": 73,
   "id": "0abeff2f-4b6b-42b0-bb44-4b326f64ce3b",
   "metadata": {},
   "outputs": [],
   "source": [
    "# Entrenamiento del modelo con los mejores hiperparámetros\n",
    "start_train = time.time()\n",
    "rf_model = RandomForestRegressor(random_state=12345, max_depth=6, n_estimators=40)\n",
    "rf_model.fit(x_train_sc_cd, y_train_sc_cd)\n",
    "end_train = time.time()\n",
    "\n",
    "# Realización de predicciones con conjunto de prueba\n",
    "start_test = time.time()\n",
    "y_pred_rf = rf_model.predict(x_test_sc_cd)\n",
    "end_test = time.time()\n",
    "\n",
    "RECM_rf = mean_squared_error(y_test_sc_cd, y_pred_rf)**0.5\n",
    "\n",
    "time_train_rf = end_train - start_train\n",
    "time_predict_rf = end_test - start_test"
   ]
  },
  {
   "cell_type": "code",
   "execution_count": 74,
   "id": "ca4b7bd0-76a8-4d68-bc50-940c0a3a07e9",
   "metadata": {},
   "outputs": [
    {
     "data": {
      "text/html": [
       "<div>\n",
       "<style scoped>\n",
       "    .dataframe tbody tr th:only-of-type {\n",
       "        vertical-align: middle;\n",
       "    }\n",
       "\n",
       "    .dataframe tbody tr th {\n",
       "        vertical-align: top;\n",
       "    }\n",
       "\n",
       "    .dataframe thead th {\n",
       "        text-align: right;\n",
       "    }\n",
       "</style>\n",
       "<table border=\"1\" class=\"dataframe\">\n",
       "  <thead>\n",
       "    <tr style=\"text-align: right;\">\n",
       "      <th></th>\n",
       "      <th>recm</th>\n",
       "      <th>time_adj</th>\n",
       "      <th>time_train</th>\n",
       "      <th>time_pred</th>\n",
       "    </tr>\n",
       "  </thead>\n",
       "  <tbody>\n",
       "    <tr>\n",
       "      <th>Regresión Lineal (prueba  de cordura)</th>\n",
       "      <td>0.1542</td>\n",
       "      <td>0.0000</td>\n",
       "      <td>2.0243</td>\n",
       "      <td>0.0278</td>\n",
       "    </tr>\n",
       "    <tr>\n",
       "      <th>RandomForestRegresor</th>\n",
       "      <td>0.1119</td>\n",
       "      <td>422.8277</td>\n",
       "      <td>48.9207</td>\n",
       "      <td>0.3637</td>\n",
       "    </tr>\n",
       "  </tbody>\n",
       "</table>\n",
       "</div>"
      ],
      "text/plain": [
       "                                         recm  time_adj  time_train  time_pred\n",
       "Regresión Lineal (prueba  de cordura)  0.1542    0.0000      2.0243     0.0278\n",
       "RandomForestRegresor                   0.1119  422.8277     48.9207     0.3637"
      ]
     },
     "execution_count": 74,
     "metadata": {},
     "output_type": "execute_result"
    }
   ],
   "source": [
    "# Visualización de resultados\n",
    "results.loc['RandomForestRegresor'] = [RECM_rf, time_adj_rf, time_train_rf, time_predict_rf]\n",
    "results.iloc[[0, -1]].round(4)"
   ]
  },
  {
   "cell_type": "markdown",
   "id": "fa78f107-17e5-45de-b6bc-769fec6b0284",
   "metadata": {},
   "source": [
    "## LightGBM"
   ]
  },
  {
   "cell_type": "markdown",
   "id": "2d4607cf-7345-452f-9c41-bb191d75fd6b",
   "metadata": {},
   "source": [
    "LightGBM es un algoritmo basado en el método de potenciación por gradiente (gradient boosting) que utiliza árboles de decisión para tareas de clasificación y regresión. Se destaca por su alta eficiencia y velocidad gracias a técnicas como el crecimiento de árboles por hojas, el uso de histogramas para agrupar datos y el muestreo unilateral basado en gradientes (GOSS), lo que permite manejar grandes volúmenes de datos con menor uso de memoria y mayor precisión. \n",
    "\n",
    "Para optimizar el desempeño del modelo, se explorarán los hiperparámetros clave: el número de estimadores (`n_estimators`), la tasa de aprendizaje (`learning_rate`), y el número de hojas (`num_leaves`). Ajustar estos parámetros permitirá encontrar un balance adecuado entre la complejidad del modelo y su capacidad de generalización, mejorando así la precisión en las predicciones."
   ]
  },
  {
   "cell_type": "code",
   "execution_count": 75,
   "id": "db5a7f99-8c50-4b61-a05c-5f29ccbbdb59",
   "metadata": {},
   "outputs": [],
   "source": [
    "# Establecimiento de hiperparámetros\n",
    "params_lightgbm = {\n",
    "    'n_estimators': [100, 300],\n",
    "    'learning_rate': [0.1, 0.2, 0.5],\n",
    "    'num_leaves': [10, 20]\n",
    "}\n",
    "\n",
    "# Función GridSearchCV con hiperparámetros establecidos\n",
    "light_est = LGBMRegressor(verbosity=-1, random_state=12345)\n",
    "\n",
    "gridSearch_lightgbm = GridSearchCV(\n",
    "    estimator=light_est,\n",
    "    param_grid=params_lightgbm,\n",
    "    scoring='neg_root_mean_squared_error',\n",
    "    cv=3  \n",
    ")"
   ]
  },
  {
   "cell_type": "code",
   "execution_count": 76,
   "id": "bcb4c0a9-f56f-405d-9fd3-828a8d68b9b5",
   "metadata": {},
   "outputs": [
    {
     "name": "stdout",
     "output_type": "stream",
     "text": [
      "Tiempo de ajuste de hiperparámetros para LightGBM: 192.4546s\n",
      "Mejores hiperparámetros: {'learning_rate': 0.2, 'n_estimators': 300, 'num_leaves': 20} | Mejor RECM: 0.0792\n"
     ]
    }
   ],
   "source": [
    "# Entrenamiento de modelo para encontrar los mejores hiperparámetros\n",
    "start = time.time()\n",
    "gridSearch_lightgbm.fit(x_train_sc, y_train_sc)\n",
    "end = time.time()\n",
    "\n",
    "time_adj_light = end-start\n",
    "\n",
    "print(f'Tiempo de ajuste de hiperparámetros para LightGBM: {time_adj_light:.4f}s')\n",
    "\n",
    "# Búsqueda de mejores hiperparámetros que devuelva el valor más bajo de RECM \n",
    "max_score = gridSearch_lightgbm.cv_results_[\"mean_test_score\"].max()\n",
    "index_max_score = np.where(gridSearch_lightgbm.cv_results_[\"mean_test_score\"] == max_score)[0][0]\n",
    "\n",
    "best_set_of_params = gridSearch_lightgbm.cv_results_[\"params\"][index_max_score]\n",
    "\n",
    "print(f'Mejores hiperparámetros: {best_set_of_params} | Mejor RECM: {-max_score:.4f}')"
   ]
  },
  {
   "cell_type": "code",
   "execution_count": 77,
   "id": "c6fcbf3b-8763-4d14-ae4b-d9fc670817a7",
   "metadata": {},
   "outputs": [],
   "source": [
    "# Entrenamiento del modelo con los mejores hiperparámetros\n",
    "lightgbm_model = LGBMRegressor(learning_rate=0.2,\n",
    "                               n_estimators=300, \n",
    "                               num_leaves=20,\n",
    "                               random_state=12345)\n",
    "\n",
    "start_train = time.time()\n",
    "lightgbm_model.fit(x_train_sc, y_train_sc)\n",
    "end_train = time.time()\n",
    "\n",
    "# Realización de predicciones con conjunto de prueba\n",
    "start_test = time.time()\n",
    "y_pred_light = lightgbm_model.predict(x_test_sc)\n",
    "end_test = time.time()\n",
    "\n",
    "RECM_light = mean_squared_error(y_test_sc, y_pred_light)**0.5\n",
    "time_train_light = end_train - start_train\n",
    "time_pred_light = end_test - start_test"
   ]
  },
  {
   "cell_type": "code",
   "execution_count": 78,
   "id": "a6f12181-b177-4599-a028-e7ecbe523981",
   "metadata": {},
   "outputs": [
    {
     "data": {
      "text/html": [
       "<div>\n",
       "<style scoped>\n",
       "    .dataframe tbody tr th:only-of-type {\n",
       "        vertical-align: middle;\n",
       "    }\n",
       "\n",
       "    .dataframe tbody tr th {\n",
       "        vertical-align: top;\n",
       "    }\n",
       "\n",
       "    .dataframe thead th {\n",
       "        text-align: right;\n",
       "    }\n",
       "</style>\n",
       "<table border=\"1\" class=\"dataframe\">\n",
       "  <thead>\n",
       "    <tr style=\"text-align: right;\">\n",
       "      <th></th>\n",
       "      <th>recm</th>\n",
       "      <th>time_adj</th>\n",
       "      <th>time_train</th>\n",
       "      <th>time_pred</th>\n",
       "    </tr>\n",
       "  </thead>\n",
       "  <tbody>\n",
       "    <tr>\n",
       "      <th>Regresión Lineal (prueba  de cordura)</th>\n",
       "      <td>0.1542</td>\n",
       "      <td>0.0000</td>\n",
       "      <td>2.0243</td>\n",
       "      <td>0.0278</td>\n",
       "    </tr>\n",
       "    <tr>\n",
       "      <th>LGBMRegressor</th>\n",
       "      <td>0.0784</td>\n",
       "      <td>192.4546</td>\n",
       "      <td>6.1948</td>\n",
       "      <td>1.3138</td>\n",
       "    </tr>\n",
       "  </tbody>\n",
       "</table>\n",
       "</div>"
      ],
      "text/plain": [
       "                                         recm  time_adj  time_train  time_pred\n",
       "Regresión Lineal (prueba  de cordura)  0.1542    0.0000      2.0243     0.0278\n",
       "LGBMRegressor                          0.0784  192.4546      6.1948     1.3138"
      ]
     },
     "execution_count": 78,
     "metadata": {},
     "output_type": "execute_result"
    }
   ],
   "source": [
    "# Visualización de resultados\n",
    "results.loc['LGBMRegressor'] = [RECM_light, time_adj_light, time_train_light, time_pred_light]\n",
    "results.iloc[[0, -1]].round(4)"
   ]
  },
  {
   "cell_type": "markdown",
   "id": "ebe516d0-5109-43af-afd7-4bea3b156748",
   "metadata": {},
   "source": [
    "## CatBoost"
   ]
  },
  {
   "cell_type": "markdown",
   "id": "7bbedb1e-27ea-4b8d-8003-dc99843c2337",
   "metadata": {},
   "source": [
    "CatBoost es un algoritmo de aprendizaje automático basado en la técnica de Gradient Boosting que destaca por su capacidad para manejar de forma eficiente variables categóricas sin necesidad de preprocesamiento previo, gracias a su innovador método de codificación ordenada. Esto permite construir modelos robustos y precisos para tareas de clasificación y regresión, optimizando tanto la velocidad como la calidad de las predicciones. \n",
    "\n",
    "Para optimizar el desempeño del modelo en este proyecto, se explorarán los hiperparámetros `'depth'` y `'learning_rate'`, buscando un balance adecuado entre complejidad del modelo y velocidad de convergencia que permita obtener resultados robustos y generalizables."
   ]
  },
  {
   "cell_type": "code",
   "execution_count": 79,
   "id": "851faf24-49f1-4471-968e-830d7020cec4",
   "metadata": {},
   "outputs": [],
   "source": [
    "# Definición de características categóricas\n",
    "cat_features = ['vehicle_type', \n",
    "                'gearbox', \n",
    "                'model', \n",
    "                'fuel_type', \n",
    "                'brand']\n",
    "\n",
    "# Establecimiento de hiperparámetros\n",
    "params_catboost = {\n",
    "    'depth': [4, 6, 10],\n",
    "    'learning_rate': [0.1, 0.2, 0.5]    \n",
    "}\n",
    "\n",
    "# Función GridSearchCV con hiperparámetros establecidos\n",
    "catboost_est = CatBoostRegressor(iterations=100, cat_features=cat_features, verbose=False, loss_function='RMSE', random_seed=12345)\n",
    "\n",
    "gridSearch_catboost = GridSearchCV(\n",
    "    estimator=catboost_est,\n",
    "    param_grid=params_catboost,\n",
    "    scoring='neg_root_mean_squared_error',\n",
    "    cv=3  \n",
    ")"
   ]
  },
  {
   "cell_type": "code",
   "execution_count": 80,
   "id": "912b0823-f731-4678-aa01-98c69fe2d79c",
   "metadata": {},
   "outputs": [
    {
     "name": "stdout",
     "output_type": "stream",
     "text": [
      "Tiempo de ajuste de hiperparámetros para CatBoost: 374.1526s\n",
      "Mejores hiperparámetros: {'depth': 10, 'learning_rate': 0.5} | Mejor RECM: 0.0811\n"
     ]
    }
   ],
   "source": [
    "# Entrenamiento de modelo para encontrar los mejores hiperparámetros\n",
    "start = time.time()\n",
    "gridSearch_catboost.fit(x_train_sc, y_train_sc)\n",
    "end = time.time()\n",
    "time_adj_cat = end-start\n",
    "\n",
    "print(f'Tiempo de ajuste de hiperparámetros para CatBoost: {time_adj_cat:.4f}s')\n",
    "\n",
    "# Búsqueda de mejores hiperparámetros que devuelva el valor más bajo de RECM \n",
    "max_score = gridSearch_catboost.cv_results_[\"mean_test_score\"].max()\n",
    "index_max_score = np.where(gridSearch_catboost.cv_results_[\"mean_test_score\"] == max_score)[0][0]\n",
    "\n",
    "best_set_of_params = gridSearch_catboost.cv_results_[\"params\"][index_max_score]\n",
    "\n",
    "print(f'Mejores hiperparámetros: {best_set_of_params} | Mejor RECM: {-max_score:.4f}')"
   ]
  },
  {
   "cell_type": "code",
   "execution_count": 81,
   "id": "afdd136b-fa29-4513-b09f-f6011a1b7866",
   "metadata": {},
   "outputs": [],
   "source": [
    "# Entrenamiento del modelo con los mejores hiperparámetros\n",
    "catboost_model = CatBoostRegressor(iterations=100, \n",
    "                                  depth=10,\n",
    "                                  learning_rate=0.5,\n",
    "                                  loss_function='RMSE',\n",
    "                                  random_seed=12345)\n",
    "\n",
    "start_train = time.time()\n",
    "catboost_model.fit(x_train_sc, y_train_sc, cat_features=cat_features, verbose=False)\n",
    "end_train = time.time()\n",
    "\n",
    "# Realización de predicciones con conjunto de prueba\n",
    "start_test = time.time()\n",
    "y_pred_cat = catboost_model.predict(x_test_sc)\n",
    "end_test = time.time()\n",
    "\n",
    "RECM_catboost = mean_squared_error(y_test_sc, y_pred_cat)**0.5\n",
    "time_train_cat = end_train - start_train\n",
    "time_pred_cat = end_test - start_test"
   ]
  },
  {
   "cell_type": "code",
   "execution_count": 82,
   "id": "70dd534b-5c7a-4c58-afdb-902b99f49572",
   "metadata": {},
   "outputs": [
    {
     "data": {
      "text/html": [
       "<div>\n",
       "<style scoped>\n",
       "    .dataframe tbody tr th:only-of-type {\n",
       "        vertical-align: middle;\n",
       "    }\n",
       "\n",
       "    .dataframe tbody tr th {\n",
       "        vertical-align: top;\n",
       "    }\n",
       "\n",
       "    .dataframe thead th {\n",
       "        text-align: right;\n",
       "    }\n",
       "</style>\n",
       "<table border=\"1\" class=\"dataframe\">\n",
       "  <thead>\n",
       "    <tr style=\"text-align: right;\">\n",
       "      <th></th>\n",
       "      <th>recm</th>\n",
       "      <th>time_adj</th>\n",
       "      <th>time_train</th>\n",
       "      <th>time_pred</th>\n",
       "    </tr>\n",
       "  </thead>\n",
       "  <tbody>\n",
       "    <tr>\n",
       "      <th>Regresión Lineal (prueba  de cordura)</th>\n",
       "      <td>0.1542</td>\n",
       "      <td>0.0000</td>\n",
       "      <td>2.0243</td>\n",
       "      <td>0.0278</td>\n",
       "    </tr>\n",
       "    <tr>\n",
       "      <th>CatBoost</th>\n",
       "      <td>0.0799</td>\n",
       "      <td>374.1526</td>\n",
       "      <td>35.9880</td>\n",
       "      <td>0.3123</td>\n",
       "    </tr>\n",
       "  </tbody>\n",
       "</table>\n",
       "</div>"
      ],
      "text/plain": [
       "                                         recm  time_adj  time_train  time_pred\n",
       "Regresión Lineal (prueba  de cordura)  0.1542    0.0000      2.0243     0.0278\n",
       "CatBoost                               0.0799  374.1526     35.9880     0.3123"
      ]
     },
     "execution_count": 82,
     "metadata": {},
     "output_type": "execute_result"
    }
   ],
   "source": [
    "# Visualización de resultados\n",
    "results.loc['CatBoost'] = [RECM_catboost, time_adj_cat, time_train_cat, time_pred_cat]\n",
    "results.iloc[[0, -1]].round(4)"
   ]
  },
  {
   "cell_type": "markdown",
   "id": "26eeae92-b485-4469-96cd-1db7198ffcf1",
   "metadata": {},
   "source": [
    "## XGBoost"
   ]
  },
  {
   "cell_type": "markdown",
   "id": "5e5bd506-6648-4a99-aeef-78db307e8ed6",
   "metadata": {},
   "source": [
    "XGBoost (eXtreme Gradient Boosting) es un algoritmo avanzado de aprendizaje supervisado que combina múltiples árboles de decisión para mejorar la precisión mediante la técnica de optimización de gradiente. Este método construye secuencialmente árboles que corrigen los errores de los anteriores, optimizando tanto la precisión como la eficiencia computacional. \n",
    "\n",
    "Para optimizar su desempeño en este proyecto, se explorarán los hiperparámetros clave: la profundidad máxima de los árboles (`max_depth`), la tasa de aprendizaje (`learning_rate`), y el número de árboles (`n_estimators`) con valores. Explorar estos parámetros permitirá encontrar un balance adecuado entre complejidad del modelo, velocidad de aprendizaje y capacidad de generalización."
   ]
  },
  {
   "cell_type": "code",
   "execution_count": 83,
   "id": "b1afc6b7-03ff-4312-a678-32abb8f00c23",
   "metadata": {},
   "outputs": [],
   "source": [
    "# Establecimiento de hiperparámetros\n",
    "params_xgboost = {\n",
    "    'max_depth': [4, 6, 8],\n",
    "    'learning_rate': [0.1, 0.2, 0.5],\n",
    "    'n_estimators': [50, 100]\n",
    "}\n",
    "\n",
    "# Función GridSearchCV con hiperparámetros establecidos\n",
    "xboost_est = XGBRegressor(random_state=12345)\n",
    "\n",
    "gridSearch_xboost = GridSearchCV(\n",
    "    estimator=xboost_est,\n",
    "    param_grid=params_xgboost,\n",
    "    scoring='neg_root_mean_squared_error',\n",
    "    cv=3  \n",
    ")"
   ]
  },
  {
   "cell_type": "code",
   "execution_count": 84,
   "id": "5f17fad8-c2ef-483d-a9b9-61ee4116aaba",
   "metadata": {},
   "outputs": [
    {
     "name": "stdout",
     "output_type": "stream",
     "text": [
      "Tiempo de ajuste de hiperparámetros para XGBoost: 209.3908s\n",
      "Mejores hiperparámetros: {'learning_rate': 0.2, 'max_depth': 8, 'n_estimators': 100} | Mejor RECM: 0.0795\n"
     ]
    }
   ],
   "source": [
    "# Entrenamiento de modelo para encontrar los mejores hiperparámetros\n",
    "start = time.time()\n",
    "gridSearch_xboost.fit(x_train_sc_cd, y_train_sc_cd)\n",
    "end = time.time()\n",
    "\n",
    "time_adj_xgboost = end-start\n",
    "\n",
    "print(f'Tiempo de ajuste de hiperparámetros para XGBoost: {time_adj_xgboost:.4f}s')\n",
    "\n",
    "# Búsqueda de mejores hiperparámetros que devuelva el valor más bajo de RECM \n",
    "max_score = gridSearch_xboost.cv_results_[\"mean_test_score\"].max()\n",
    "index_max_score = np.where(gridSearch_xboost.cv_results_[\"mean_test_score\"] == max_score)[0][0]\n",
    "\n",
    "best_set_of_params = gridSearch_xboost.cv_results_[\"params\"][index_max_score]\n",
    "\n",
    "print(f'Mejores hiperparámetros: {best_set_of_params} | Mejor RECM: {-max_score:.4f}')"
   ]
  },
  {
   "cell_type": "code",
   "execution_count": 85,
   "id": "b82deca9-761e-4d77-b3ab-0e71a00139dc",
   "metadata": {},
   "outputs": [],
   "source": [
    "# Entrenamiento del modelo con los mejores hiperparámetros\n",
    "xgboost_model = XGBRegressor(random_state=12345, \n",
    "                             max_depth=8, \n",
    "                             learning_rate= 0.2,\n",
    "                             n_estimators= 100)\n",
    "\n",
    "start_train = time.time()\n",
    "xgboost_model.fit(x_train_sc_cd, y_train_sc_cd)\n",
    "end_train = time.time()\n",
    "\n",
    "# Realización de predicciones con conjunto de prueba\n",
    "start_test = time.time()\n",
    "y_pred_xgboost = xgboost_model.predict(x_test_sc_cd)\n",
    "end_test = time.time()\n",
    "\n",
    "RECM_XGBoost = mean_squared_error(y_test_sc_cd, y_pred_xgboost)**0.5\n",
    "\n",
    "time_train_xgboost = end_train - start_train\n",
    "time_pred_xgboost = end_test - start_test"
   ]
  },
  {
   "cell_type": "code",
   "execution_count": 86,
   "id": "f889cb41-18ce-4905-adca-924fa3d5c7d3",
   "metadata": {},
   "outputs": [
    {
     "data": {
      "text/html": [
       "<div>\n",
       "<style scoped>\n",
       "    .dataframe tbody tr th:only-of-type {\n",
       "        vertical-align: middle;\n",
       "    }\n",
       "\n",
       "    .dataframe tbody tr th {\n",
       "        vertical-align: top;\n",
       "    }\n",
       "\n",
       "    .dataframe thead th {\n",
       "        text-align: right;\n",
       "    }\n",
       "</style>\n",
       "<table border=\"1\" class=\"dataframe\">\n",
       "  <thead>\n",
       "    <tr style=\"text-align: right;\">\n",
       "      <th></th>\n",
       "      <th>recm</th>\n",
       "      <th>time_adj</th>\n",
       "      <th>time_train</th>\n",
       "      <th>time_pred</th>\n",
       "    </tr>\n",
       "  </thead>\n",
       "  <tbody>\n",
       "    <tr>\n",
       "      <th>Regresión Lineal (prueba  de cordura)</th>\n",
       "      <td>0.1542</td>\n",
       "      <td>0.0000</td>\n",
       "      <td>2.0243</td>\n",
       "      <td>0.0278</td>\n",
       "    </tr>\n",
       "    <tr>\n",
       "      <th>XGBoost</th>\n",
       "      <td>0.0790</td>\n",
       "      <td>209.3908</td>\n",
       "      <td>5.7506</td>\n",
       "      <td>0.3328</td>\n",
       "    </tr>\n",
       "  </tbody>\n",
       "</table>\n",
       "</div>"
      ],
      "text/plain": [
       "                                         recm  time_adj  time_train  time_pred\n",
       "Regresión Lineal (prueba  de cordura)  0.1542    0.0000      2.0243     0.0278\n",
       "XGBoost                                0.0790  209.3908      5.7506     0.3328"
      ]
     },
     "execution_count": 86,
     "metadata": {},
     "output_type": "execute_result"
    }
   ],
   "source": [
    "# Visualización de resultados\n",
    "results.loc['XGBoost'] = [RECM_XGBoost, time_adj_xgboost, time_train_xgboost, time_pred_xgboost]\n",
    "results.iloc[[0, -1]].round(4)"
   ]
  },
  {
   "cell_type": "markdown",
   "id": "eb7aa50b-6530-438a-bc82-8fc6f2758d15",
   "metadata": {},
   "source": [
    "## Conclusiones de sección"
   ]
  },
  {
   "cell_type": "code",
   "execution_count": 87,
   "id": "3bd05158-ecd4-443b-b701-26cffc3181e9",
   "metadata": {},
   "outputs": [
    {
     "data": {
      "image/png": "[encoded data removed]",
      "text/plain": [
       "<Figure size 2000x1200 with 4 Axes>"
      ]
     },
     "metadata": {},
     "output_type": "display_data"
    }
   ],
   "source": [
    "# Visualización comparativa de velocidad y calidad de modelos de aprendizaje automático\n",
    "table = results.copy()\n",
    "table.columns = ['RECM', 'Tiempo de ajuste (s)', 'Tiempo de entrenamiento (s)', 'Tiempo de predicción (s)']\n",
    "\n",
    "sns.set_style('whitegrid')\n",
    "\n",
    "fig, axes = plt.subplots(nrows=2, ncols=2, figsize=(20, 12))\n",
    "axes = axes.flatten()\n",
    "\n",
    "# Reset index to have model names as a column\n",
    "df_plot = table.reset_index().rename(columns={'index': 'Model'})\n",
    "\n",
    "for n, col in enumerate(['RECM', 'Tiempo de ajuste (s)', 'Tiempo de entrenamiento (s)', 'Tiempo de predicción (s)']):\n",
    "    ax = axes[n]\n",
    "    # Use y='Model' and x=metric column\n",
    "    # Assign hue='Model' to use palette without warning, disable legend to avoid clutter\n",
    "    sns.barplot(x=col, y='Model', data=df_plot, ax=ax, palette=\"Spectral\", hue='Model', dodge=False, legend=False)\n",
    "    ax.set_xlabel(col)\n",
    "    ax.set_ylabel('Model')\n",
    "    ax.set_title(f'{col} para Modelo')\n",
    "\n",
    "plt.suptitle('Análisis de velocidad y calidad por modelo', fontsize=19)\n",
    "plt.tight_layout(rect=[0, 0, 1, 0.96])  # leave space for suptitle\n",
    "plt.show()\n"
   ]
  },
  {
   "cell_type": "code",
   "execution_count": 88,
   "id": "1232a00e-5a48-4988-b950-a1ac5e8646fb",
   "metadata": {},
   "outputs": [
    {
     "data": {
      "text/html": [
       "<div>\n",
       "<style scoped>\n",
       "    .dataframe tbody tr th:only-of-type {\n",
       "        vertical-align: middle;\n",
       "    }\n",
       "\n",
       "    .dataframe tbody tr th {\n",
       "        vertical-align: top;\n",
       "    }\n",
       "\n",
       "    .dataframe thead th {\n",
       "        text-align: right;\n",
       "    }\n",
       "</style>\n",
       "<table border=\"1\" class=\"dataframe\">\n",
       "  <thead>\n",
       "    <tr style=\"text-align: right;\">\n",
       "      <th></th>\n",
       "      <th>recm</th>\n",
       "      <th>time_adj</th>\n",
       "      <th>time_train</th>\n",
       "      <th>time_pred</th>\n",
       "      <th>time_total</th>\n",
       "    </tr>\n",
       "  </thead>\n",
       "  <tbody>\n",
       "    <tr>\n",
       "      <th>Regresión Lineal (prueba  de cordura)</th>\n",
       "      <td>0.154200</td>\n",
       "      <td>0.000000</td>\n",
       "      <td>2.024272</td>\n",
       "      <td>0.027811</td>\n",
       "      <td>2.052083</td>\n",
       "    </tr>\n",
       "    <tr>\n",
       "      <th>DecisionTreeRegressor</th>\n",
       "      <td>0.113581</td>\n",
       "      <td>176.054169</td>\n",
       "      <td>1.739787</td>\n",
       "      <td>0.021542</td>\n",
       "      <td>1.761329</td>\n",
       "    </tr>\n",
       "    <tr>\n",
       "      <th>RandomForestRegresor</th>\n",
       "      <td>0.111888</td>\n",
       "      <td>422.827675</td>\n",
       "      <td>48.920748</td>\n",
       "      <td>0.363733</td>\n",
       "      <td>49.284482</td>\n",
       "    </tr>\n",
       "    <tr>\n",
       "      <th>LGBMRegressor</th>\n",
       "      <td>0.078375</td>\n",
       "      <td>192.454577</td>\n",
       "      <td>6.194831</td>\n",
       "      <td>1.313752</td>\n",
       "      <td>7.508583</td>\n",
       "    </tr>\n",
       "    <tr>\n",
       "      <th>CatBoost</th>\n",
       "      <td>0.079935</td>\n",
       "      <td>374.152643</td>\n",
       "      <td>35.987968</td>\n",
       "      <td>0.312268</td>\n",
       "      <td>36.300236</td>\n",
       "    </tr>\n",
       "    <tr>\n",
       "      <th>XGBoost</th>\n",
       "      <td>0.079000</td>\n",
       "      <td>209.390797</td>\n",
       "      <td>5.750574</td>\n",
       "      <td>0.332751</td>\n",
       "      <td>6.083325</td>\n",
       "    </tr>\n",
       "  </tbody>\n",
       "</table>\n",
       "</div>"
      ],
      "text/plain": [
       "                                           recm    time_adj  time_train  \\\n",
       "Regresión Lineal (prueba  de cordura)  0.154200    0.000000    2.024272   \n",
       "DecisionTreeRegressor                  0.113581  176.054169    1.739787   \n",
       "RandomForestRegresor                   0.111888  422.827675   48.920748   \n",
       "LGBMRegressor                          0.078375  192.454577    6.194831   \n",
       "CatBoost                               0.079935  374.152643   35.987968   \n",
       "XGBoost                                0.079000  209.390797    5.750574   \n",
       "\n",
       "                                       time_pred  time_total  \n",
       "Regresión Lineal (prueba  de cordura)   0.027811    2.052083  \n",
       "DecisionTreeRegressor                   0.021542    1.761329  \n",
       "RandomForestRegresor                    0.363733   49.284482  \n",
       "LGBMRegressor                           1.313752    7.508583  \n",
       "CatBoost                                0.312268   36.300236  \n",
       "XGBoost                                 0.332751    6.083325  "
      ]
     },
     "execution_count": 88,
     "metadata": {},
     "output_type": "execute_result"
    }
   ],
   "source": [
    "# Suma de columnas para calcular tiempo total (entrenamiento + predicción)\n",
    "results['time_total'] = results[['time_train', 'time_pred']].sum(axis=1)\n",
    "results"
   ]
  },
  {
   "cell_type": "markdown",
   "id": "64724c76-b32c-4263-9fc7-c6868fafe450",
   "metadata": {},
   "source": [
    "*Calidad de predicción (RECM):*\n",
    "\n",
    "- Los modelos basados en boosting (**LightGBM, CatBoost, XGBoost**) lideran en precisión, con RECM alrededor de 0.078-0.08, seguidos muy de cerca por RandomForest (0.1119). La regresión lineal y el árbol de decisión tienen errores más altos (0.1542 y 0.1136 respectivamente), lo que indica menor calidad predictiva.\n",
    "\n",
    "*Tiempos de entrenamiento y predicción:*\n",
    "\n",
    "- Regresión lineal es extremadamente rápida en entrenamiento y predicción, aunque su calidad es la peor.\n",
    "\n",
    "- DecisionTreeRegressor tiene un tiempo de entrenamiento alto (176 s) pero predicción rápida (1.74 s).\n",
    "\n",
    "- RandomForest y CatBoost tienen tiempos de entrenamiento y predicción elevados, especialmente RandomForest con casi 49 s en total.\n",
    "\n",
    "-  LightGBM y XGBoost ofrecen un buen balance: tiempos moderados (7.5 s y 6.08 s total) con la mejor calidad predictiva.\n"
   ]
  },
  {
   "cell_type": "code",
   "execution_count": 89,
   "id": "775358df-bcf9-473d-a43a-a10b90993113",
   "metadata": {},
   "outputs": [
    {
     "data": {
      "text/html": [
       "<div>\n",
       "<style scoped>\n",
       "    .dataframe tbody tr th:only-of-type {\n",
       "        vertical-align: middle;\n",
       "    }\n",
       "\n",
       "    .dataframe tbody tr th {\n",
       "        vertical-align: top;\n",
       "    }\n",
       "\n",
       "    .dataframe thead th {\n",
       "        text-align: right;\n",
       "    }\n",
       "</style>\n",
       "<table border=\"1\" class=\"dataframe\">\n",
       "  <thead>\n",
       "    <tr style=\"text-align: right;\">\n",
       "      <th></th>\n",
       "      <th>recm</th>\n",
       "      <th>time_adj</th>\n",
       "      <th>time_train</th>\n",
       "      <th>time_pred</th>\n",
       "      <th>time_total</th>\n",
       "      <th>indice_compuesto</th>\n",
       "    </tr>\n",
       "  </thead>\n",
       "  <tbody>\n",
       "    <tr>\n",
       "      <th>Regresión Lineal (prueba  de cordura)</th>\n",
       "      <td>0.1542</td>\n",
       "      <td>0.0000</td>\n",
       "      <td>2.0243</td>\n",
       "      <td>0.0278</td>\n",
       "      <td>2.0521</td>\n",
       "      <td>1.0061</td>\n",
       "    </tr>\n",
       "    <tr>\n",
       "      <th>DecisionTreeRegressor</th>\n",
       "      <td>0.1136</td>\n",
       "      <td>176.0542</td>\n",
       "      <td>1.7398</td>\n",
       "      <td>0.0215</td>\n",
       "      <td>1.7613</td>\n",
       "      <td>0.4643</td>\n",
       "    </tr>\n",
       "    <tr>\n",
       "      <th>RandomForestRegresor</th>\n",
       "      <td>0.1119</td>\n",
       "      <td>422.8277</td>\n",
       "      <td>48.9207</td>\n",
       "      <td>0.3637</td>\n",
       "      <td>49.2845</td>\n",
       "      <td>1.4420</td>\n",
       "    </tr>\n",
       "    <tr>\n",
       "      <th>LGBMRegressor</th>\n",
       "      <td>0.0784</td>\n",
       "      <td>192.4546</td>\n",
       "      <td>6.1948</td>\n",
       "      <td>1.3138</td>\n",
       "      <td>7.5086</td>\n",
       "      <td>0.1209</td>\n",
       "    </tr>\n",
       "    <tr>\n",
       "      <th>CatBoost</th>\n",
       "      <td>0.0799</td>\n",
       "      <td>374.1526</td>\n",
       "      <td>35.9880</td>\n",
       "      <td>0.3123</td>\n",
       "      <td>36.3002</td>\n",
       "      <td>0.7474</td>\n",
       "    </tr>\n",
       "    <tr>\n",
       "      <th>XGBoost</th>\n",
       "      <td>0.0790</td>\n",
       "      <td>209.3908</td>\n",
       "      <td>5.7506</td>\n",
       "      <td>0.3328</td>\n",
       "      <td>6.0833</td>\n",
       "      <td>0.0992</td>\n",
       "    </tr>\n",
       "  </tbody>\n",
       "</table>\n",
       "</div>"
      ],
      "text/plain": [
       "                                         recm  time_adj  time_train  \\\n",
       "Regresión Lineal (prueba  de cordura)  0.1542    0.0000      2.0243   \n",
       "DecisionTreeRegressor                  0.1136  176.0542      1.7398   \n",
       "RandomForestRegresor                   0.1119  422.8277     48.9207   \n",
       "LGBMRegressor                          0.0784  192.4546      6.1948   \n",
       "CatBoost                               0.0799  374.1526     35.9880   \n",
       "XGBoost                                0.0790  209.3908      5.7506   \n",
       "\n",
       "                                       time_pred  time_total  indice_compuesto  \n",
       "Regresión Lineal (prueba  de cordura)     0.0278      2.0521            1.0061  \n",
       "DecisionTreeRegressor                     0.0215      1.7613            0.4643  \n",
       "RandomForestRegresor                      0.3637     49.2845            1.4420  \n",
       "LGBMRegressor                             1.3138      7.5086            0.1209  \n",
       "CatBoost                                  0.3123     36.3002            0.7474  \n",
       "XGBoost                                   0.3328      6.0833            0.0992  "
      ]
     },
     "metadata": {},
     "output_type": "display_data"
    },
    {
     "name": "stdout",
     "output_type": "stream",
     "text": [
      "El modelo con mejor relación RECM-tiempo es: XGBoost\n"
     ]
    }
   ],
   "source": [
    "# Normalización de métricas \n",
    "recm_norm = (results['recm'] - results['recm'].min()) / (results['recm'].max() - results['recm'].min())\n",
    "time_norm = (results['time_total'] - results['time_total'].min()) / (results['time_total'].max() - results['time_total'].min())\n",
    "\n",
    "# Cálculo de índice compuesto para selección de modelo óptimo\n",
    "results['indice_compuesto'] = recm_norm + time_norm\n",
    "display(results.round(4))\n",
    "\n",
    "print(f\"El modelo con mejor relación RECM-tiempo es: {results.index[results['indice_compuesto'].argmin()]}\")"
   ]
  },
  {
   "cell_type": "markdown",
   "id": "ef130ee9-4cf3-45e6-9680-b09b414721f0",
   "metadata": {},
   "source": [
    "Se utilizó el índice compuesto como un parámetro que otorga igual importancia a la calidad de la predicción y a la eficiencia en tiempo, permitiendo así evaluar el desempeño global de cada modelo de manera equilibrada. Este índice se interpreta de forma sencilla: entre menor es su valor, mejor es el balance entre precisión y rapidez. Por ejemplo, valores bajos como los de XGBoost (0.0992) y LightGBM (0.1209) indican modelos que logran alta precisión manteniendo tiempos razonables de entrenamiento y predicción. En contraste, valores altos como los de RandomForest (1.4420) y regresión lineal (1.0061) reflejan un peor equilibrio, ya sea por menor calidad predictiva o por tiempos excesivos. **Gracias a este criterio, se concluyó que XGBoost es el modelo más eficiente y preciso, seguido muy de cerca por LightGBM.**"
   ]
  },
  {
   "cell_type": "markdown",
   "id": "66b88b37-001c-4d65-875b-0cfc7e8e37fc",
   "metadata": {},
   "source": [
    "# Conclusiones finales"
   ]
  },
  {
   "cell_type": "markdown",
   "id": "38013413-18d1-4c2e-bf06-f226f5bf0b8e",
   "metadata": {},
   "source": [
    "- Se realizó la inicialización e importación de librerías especializadas para análisis, visualización y modelado de datos, asegurando un entorno robusto y modular para el desarrollo del proyecto.\n",
    "\n",
    "- El conjunto de datos original contenía 16 columnas y 354,369 registros; tras una selección cuidadosa, se redujo a 10 columnas relevantes para la valoración de vehículos, eliminando variables irrelevantes y facilitando el análisis posterior.\n",
    "\n",
    "- Durante la exploración de datos se identificaron valores ausentes en cinco variables categóricas y 262 registros duplicados, ambos aspectos tratados para mejorar la calidad y fiabilidad del dataset.\n",
    "\n",
    "- La visualización de datos permitió detectar la predominancia de ciertas categorías como el tipo sedán, la transmisión manual y la marca Volkswagen, así como la necesidad de unificar categorías redundantes (por ejemplo, “petrol” y “gasoline”).\n",
    "\n",
    "- El análisis estadístico reveló alta variabilidad en precios y presencia de valores atípicos en variables numéricas como precio, año de registro y potencia, lo que motivó un tratamiento específico para evitar distorsiones en el modelo.\n",
    "\n",
    "- En el procesamiento de datos se estandarizaron nombres de columnas, se eliminaron duplicados, se imputaron valores ausentes y se abordaron los valores atípicos, asegurando así un conjunto de datos limpio y coherente para el modelado.\n",
    "\n",
    "- Se compararon diversos modelos de machine learning, evaluando tanto la calidad de la predicción como la eficiencia en tiempo de entrenamiento y predicción mediante un índice compuesto que pondera ambos aspectos por igual.\n",
    "\n",
    "- Los modelos XGBoost y LightGBM destacaron por su excelente balance entre precisión y eficiencia, con índices compuestos bajos (0.0992 y 0.1209 respectivamente), siendo **XGBoost el modelo seleccionado como el mejor para predecir el valor de mercado de los vehículos.**"
   ]
  },
  {
   "cell_type": "code",
   "execution_count": null,
   "id": "e72eabd7-ac9e-473c-b519-97de3ea66a74",
   "metadata": {},
   "outputs": [],
   "source": []
  }
 ],
 "metadata": {
  "kernelspec": {
   "display_name": "Python 3 (ipykernel)",
   "language": "python",
   "name": "python3"
  },
  "language_info": {
   "codemirror_mode": {
    "name": "ipython",
    "version": 3
   },
   "file_extension": ".py",
   "mimetype": "text/x-python",
   "name": "python",
   "nbconvert_exporter": "python",
   "pygments_lexer": "ipython3",
   "version": "3.8.10"
  }
 },
 "nbformat": 4,
 "nbformat_minor": 5
}
